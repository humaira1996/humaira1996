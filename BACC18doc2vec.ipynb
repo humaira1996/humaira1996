{
  "nbformat": 4,
  "nbformat_minor": 0,
  "metadata": {
    "colab": {
      "provenance": []
    },
    "kernelspec": {
      "name": "python3",
      "display_name": "Python 3"
    },
    "language_info": {
      "name": "python"
    }
  },
  "cells": [
    {
      "cell_type": "code",
      "execution_count": null,
      "metadata": {
        "id": "jaX3W91lKgRu"
      },
      "outputs": [],
      "source": [
        "import pandas as pd\n",
        "import matplotlib.pyplot as plt\n",
        "import pickle\n",
        "import seaborn as sns\n",
        "import nltk\n",
        "from nltk.corpus import stopwords\n",
        "from wordcloud import WordCloud ,STOPWORDS\n",
        "from nltk.stem import WordNetLemmatizer\n",
        "from sklearn.feature_extraction.text import TfidfVectorizer\n",
        "from sklearn.model_selection import train_test_split\n",
        "from sklearn.metrics import accuracy_score, classification_report\n",
        "from sklearn.linear_model import LogisticRegression\n",
        "from sklearn.tree import DecisionTreeClassifier\n",
        "from sklearn.neighbors import KNeighborsClassifier\n",
        "from sklearn.discriminant_analysis import LinearDiscriminantAnalysis\n",
        "from sklearn.naive_bayes import GaussianNB\n",
        "from sklearn.svm import SVC\n",
        "from nltk.tokenize import word_tokenize\n",
        "\n",
        "import re\n",
        "import warnings\n",
        "warnings.filterwarnings(\"ignore\")"
      ]
    },
    {
      "cell_type": "code",
      "source": [
        "from google.colab import drive\n",
        "#drive.mount('/gdrive')\n",
        "drive.mount('/content/drive')"
      ],
      "metadata": {
        "colab": {
          "base_uri": "https://localhost:8080/"
        },
        "id": "vtXsmfYLL2Jz",
        "outputId": "fafc1001-554a-4955-e166-6ed0bf2e4df5"
      },
      "execution_count": null,
      "outputs": [
        {
          "output_type": "stream",
          "name": "stdout",
          "text": [
            "Mounted at /content/drive\n"
          ]
        }
      ]
    },
    {
      "cell_type": "code",
      "source": [
        "import os\n",
        "os.chdir(\"/content/drive/My Drive/SM_FRIEND_NEWSDATA\")\n",
        "!ls"
      ],
      "metadata": {
        "colab": {
          "base_uri": "https://localhost:8080/"
        },
        "id": "IRhlviPdgPDe",
        "outputId": "533c60bb-db1f-495b-bdeb-38008c05adc7"
      },
      "execution_count": null,
      "outputs": [
        {
          "output_type": "stream",
          "name": "stdout",
          "text": [
            " authorshipattribution.ipynb\t   pytest.ini\n",
            " BAAD16DATASET\t\t\t   README.rst\n",
            " BACC1.csv\t\t\t   requirements\n",
            " BACC2.csv\t\t\t   samledata.csv\n",
            " bengali_stemmer\t\t   setup.cfg\n",
            " bengali-stemmer-dev\t\t   setup.py\n",
            " bengali_stemmer.egg-info\t   stemmer.ipynb\n",
            " bengali_word2vec\t\t   Stopwords.csv\n",
            " bengali_word2vec.model\t\t   stopwordsnew.csv\n",
            " bn_glove.39M.300d.txt\t\t   tests\n",
            " build\t\t\t\t   try_w2v.ipynb\n",
            " cc.bn.300.vec\t\t\t   ulm1.csv\n",
            "'Copy of ulm_train.csv'\t\t   ulm2.csv\n",
            " dist\t\t\t\t   wbc.ipynb\n",
            " LICENSE\t\t\t   word2vec.ipynb\n",
            "'naivebias on bangla news.ipynb'  'word2veclast try.ipynb'\n",
            "'new data.ipynb'\n"
          ]
        }
      ]
    },
    {
      "cell_type": "code",
      "source": [
        "import pandas as pd\n",
        "import glob\n",
        "import os\n",
        "\n",
        "# setting the path for joining multiple files\n",
        "files = os.path.join(\"BACC*.csv\")\n",
        "\n",
        "\n",
        "# list of merged files returned\n",
        "files = glob.glob(files)\n",
        "\n",
        "print(\"Resultant CSV after joining all CSV files at a particular location...\");\n",
        "\n",
        "# joining files with concat and read_csv\n",
        "data = pd.concat(map(pd.read_csv, files), ignore_index=True)\n",
        "print(data)"
      ],
      "metadata": {
        "colab": {
          "base_uri": "https://localhost:8080/"
        },
        "id": "1pF8kjT0MB78",
        "outputId": "b4958259-8adb-4548-d7f3-2515c278bbbe"
      },
      "execution_count": null,
      "outputs": [
        {
          "output_type": "stream",
          "name": "stdout",
          "text": [
            "Resultant CSV after joining all CSV files at a particular location...\n",
            "       class_id                                           sentence\n",
            "0             1  ১ পৃথিবীতে ঢের দিন বেঁচে থাকে আমাদের আয়ু এখন ম...\n",
            "1             1  প্রান্তরের পারে তব তিমিরের খেয়া নীরবে যেতেছে দ...\n",
            "2             1  তোমার চোখের পরে তাহার মুখেরে ভালোবেসে এখানে এস...\n",
            "3             1  যৌবনের সুরাপাত্র গরল মদির ঢালো নি অধরে তব ধরা ...\n",
            "4             1  হাজার বছর ধরে আমি পথ হাঁটিতেছি পৃথিবীর পথে সিং...\n",
            "...         ...                                                ...\n",
            "27421        18  নূতন এবং খুব কম লোকেই উহা বুঝিতে পারে কিন্তু প...\n",
            "27422        18  আনিয়াছে এমন কি যে স্পর্শ করিয়াছে তাহার গুণদোষ ...\n",
            "27423        18  পর্যন্ত পারে না আমরা নিজেদের প্রতি বিশ্বাস হার...\n",
            "27424        18  ভারতের ইতিহাস পাঠ করিলে জানা যায় ভারত বরাবরই ক...\n",
            "27425        18  নিকট যে সকল পাশ্চাত্যদেশীয় প্রলোভন আসিয়া থাকে ...\n",
            "\n",
            "[27426 rows x 2 columns]\n"
          ]
        }
      ]
    },
    {
      "cell_type": "code",
      "source": [
        "data['class_id'].unique()"
      ],
      "metadata": {
        "colab": {
          "base_uri": "https://localhost:8080/"
        },
        "id": "z7jRgpIOMJvL",
        "outputId": "85c60db8-6fb8-4158-8562-142d321ab98a"
      },
      "execution_count": null,
      "outputs": [
        {
          "output_type": "execute_result",
          "data": {
            "text/plain": [
              "array([ 1,  2,  3,  4,  5,  6,  7,  8,  9, 10, 11, 12, 13, 14, 15, 16, 17,\n",
              "       18])"
            ]
          },
          "metadata": {},
          "execution_count": 6
        }
      ]
    },
    {
      "cell_type": "code",
      "source": [
        "data.shape"
      ],
      "metadata": {
        "colab": {
          "base_uri": "https://localhost:8080/"
        },
        "id": "_kBDeszE0N5c",
        "outputId": "a6e10ad2-aeb2-43fd-878a-66fdb2021f85"
      },
      "execution_count": null,
      "outputs": [
        {
          "output_type": "execute_result",
          "data": {
            "text/plain": [
              "(27426, 2)"
            ]
          },
          "metadata": {},
          "execution_count": 6
        }
      ]
    },
    {
      "cell_type": "code",
      "source": [
        "data.shape\n",
        "data.dtypes"
      ],
      "metadata": {
        "colab": {
          "base_uri": "https://localhost:8080/"
        },
        "id": "6XTQZgchMJxv",
        "outputId": "68e050d0-4f8a-45ef-ea38-66f90aaf9e93"
      },
      "execution_count": null,
      "outputs": [
        {
          "output_type": "execute_result",
          "data": {
            "text/plain": [
              "class_id     int64\n",
              "sentence    object\n",
              "dtype: object"
            ]
          },
          "metadata": {},
          "execution_count": 6
        }
      ]
    },
    {
      "cell_type": "code",
      "source": [
        "#LE= ['ij', 'fe', 'mk', 'rg', 'rn', 'hm']"
      ],
      "metadata": {
        "id": "eLUl9vnB4rsz"
      },
      "execution_count": null,
      "outputs": []
    },
    {
      "cell_type": "code",
      "source": [
        "data.isnull().any()"
      ],
      "metadata": {
        "colab": {
          "base_uri": "https://localhost:8080/"
        },
        "id": "oKJjMj-PMXku",
        "outputId": "088e4301-2ebf-446c-c6cd-e6daf3f863b2"
      },
      "execution_count": null,
      "outputs": [
        {
          "output_type": "execute_result",
          "data": {
            "text/plain": [
              "class_id    False\n",
              "sentence    False\n",
              "dtype: bool"
            ]
          },
          "metadata": {},
          "execution_count": 7
        }
      ]
    },
    {
      "cell_type": "code",
      "source": [
        "sns.countplot(data.class_id)"
      ],
      "metadata": {
        "colab": {
          "base_uri": "https://localhost:8080/",
          "height": 298
        },
        "id": "yGr3MWHLMdOs",
        "outputId": "6c5e0ba9-e547-4678-93b5-3a6e0b80270f"
      },
      "execution_count": null,
      "outputs": [
        {
          "output_type": "execute_result",
          "data": {
            "text/plain": [
              "<matplotlib.axes._subplots.AxesSubplot at 0x7fb3f35d7dd0>"
            ]
          },
          "metadata": {},
          "execution_count": 10
        },
        {
          "output_type": "display_data",
          "data": {
            "text/plain": [
              "<Figure size 432x288 with 1 Axes>"
            ],
            "image/png": "[encoded data removed]"
          },
          "metadata": {
            "needs_background": "light"
          }
        }
      ]
    },
    {
      "cell_type": "code",
      "source": [
        "data['text_length'] = data['sentence'].str.len()\n",
        "print(data['text_length'])"
      ],
      "metadata": {
        "colab": {
          "base_uri": "https://localhost:8080/"
        },
        "id": "gneuLc5iMdbq",
        "outputId": "0d8cf3eb-c9f0-4b9c-dbdd-392755dd874a"
      },
      "execution_count": null,
      "outputs": [
        {
          "output_type": "stream",
          "name": "stdout",
          "text": [
            "0        1113\n",
            "1        2018\n",
            "2         954\n",
            "3        2030\n",
            "4         801\n",
            "         ... \n",
            "27421    1782\n",
            "27422    1425\n",
            "27423    1703\n",
            "27424    1806\n",
            "27425    1739\n",
            "Name: text_length, Length: 27426, dtype: int64\n"
          ]
        }
      ]
    },
    {
      "cell_type": "code",
      "source": [
        "sns.distplot(data['text_length']).set_title('text length distribution');"
      ],
      "metadata": {
        "colab": {
          "base_uri": "https://localhost:8080/",
          "height": 296
        },
        "id": "fab-aZ8IMdel",
        "outputId": "066b9f7b-7845-4fd5-c3c5-93d18f50b172"
      },
      "execution_count": null,
      "outputs": [
        {
          "output_type": "display_data",
          "data": {
            "text/plain": [
              "<Figure size 432x288 with 1 Axes>"
            ],
            "image/png": "[encoded data removed]"
          },
          "metadata": {
            "needs_background": "light"
          }
        }
      ]
    },
    {
      "cell_type": "code",
      "source": [
        "def create_wordcloud(words):\n",
        "    wordcloud = WordCloud(width=800, height=500, random_state=21, max_font_size=110).generate(words)\n",
        "    plt.figure(figsize=(10, 7))\n",
        "    plt.imshow(wordcloud, interpolation=\"bilinear\")\n",
        "    plt.axis('off')\n",
        "    plt.show()"
      ],
      "metadata": {
        "id": "pY8pBg7lMdhN"
      },
      "execution_count": null,
      "outputs": []
    },
    {
      "cell_type": "code",
      "source": [
        "subset=data[data.class_id==13]\n",
        "text=subset.sentence.values\n",
        "words =\" \".join(text)\n",
        "create_wordcloud(words)"
      ],
      "metadata": {
        "colab": {
          "base_uri": "https://localhost:8080/",
          "height": 380
        },
        "id": "ZfuOI-R5MdmI",
        "outputId": "e8efd46b-e55d-4af0-dc8a-cc73557c64de"
      },
      "execution_count": null,
      "outputs": [
        {
          "output_type": "display_data",
          "data": {
            "text/plain": [
              "<Figure size 720x504 with 1 Axes>"
            ],
            "image/png": "[encoded data removed]"
          },
          "metadata": {
            "needs_background": "light"
          }
        }
      ]
    },
    {
      "cell_type": "code",
      "source": [
        "import nltk\n",
        "nltk.download('punkt')"
      ],
      "metadata": {
        "colab": {
          "base_uri": "https://localhost:8080/"
        },
        "id": "I2vM8T9hz7Vo",
        "outputId": "4275d83b-14ba-458f-a179-89aa61731ae7"
      },
      "execution_count": null,
      "outputs": [
        {
          "output_type": "stream",
          "name": "stderr",
          "text": [
            "[nltk_data] Downloading package punkt to /root/nltk_data...\n",
            "[nltk_data]   Unzipping tokenizers/punkt.zip.\n"
          ]
        },
        {
          "output_type": "execute_result",
          "data": {
            "text/plain": [
              "True"
            ]
          },
          "metadata": {},
          "execution_count": 10
        }
      ]
    },
    {
      "cell_type": "code",
      "source": [
        "#Feature Engineering\n",
        "#Removing the special characters\n",
        "#1) \\r\n",
        "#2) \\n\n",
        "\n",
        "#Removing Punctuations and Stopwords\n",
        "\n",
        "def process_text(text):\n",
        "    text = text.lower().replace('\\n',' ').replace('\\r','').strip()\n",
        "    text = re.sub(' +', ' ', text)\n",
        "    text = re.sub(r'[^\\w\\s]','',text)\n",
        "\n",
        "    stop_words = pd.read_csv('Stopwords.csv')\n",
        "    #stop_words = set(stopwords.words('Stopwords.csv'))\n",
        "    word_tokens = word_tokenize(text)\n",
        "    filtered_sentence = [w for w in word_tokens if not w in stop_words]\n",
        "    filtered_sentence = []\n",
        "    for w in word_tokens:\n",
        "        if w not in stop_words:\n",
        "            filtered_sentence.append(w)\n",
        "\n",
        "    text = \" \".join(filtered_sentence)\n",
        "    return text\n",
        "\n",
        "\n",
        "data['Text_parsed'] = data['sentence'].apply(process_text)\n",
        "data.head()"
      ],
      "metadata": {
        "id": "xkiQ4ntLM0jP",
        "colab": {
          "base_uri": "https://localhost:8080/",
          "height": 206
        },
        "outputId": "2b661ec7-f9ca-43b4-92a3-977b10d44fda"
      },
      "execution_count": null,
      "outputs": [
        {
          "output_type": "execute_result",
          "data": {
            "text/plain": [
              "   class_id                                           sentence  text_length  \\\n",
              "0         1  ১ পৃথিবীতে ঢের দিন বেঁচে থাকে আমাদের আয়ু এখন ম...         1113   \n",
              "1         1  প্রান্তরের পারে তব তিমিরের খেয়া নীরবে যেতেছে দ...         2018   \n",
              "2         1  তোমার চোখের পরে তাহার মুখেরে ভালোবেসে এখানে এস...          954   \n",
              "3         1  যৌবনের সুরাপাত্র গরল মদির ঢালো নি অধরে তব ধরা ...         2030   \n",
              "4         1  হাজার বছর ধরে আমি পথ হাঁটিতেছি পৃথিবীর পথে সিং...          801   \n",
              "\n",
              "                                         Text_parsed  \n",
              "0  ১ পথবত ঢর দন বচ থক আমদর আয় এখন মতযর শবদ শন দনম...  \n",
              "1  পরনতরর পর তব তমরর খয় নরব যতছ দল নদল আলয় হথ গহব...  \n",
              "2  তমর চখর পর তহর মখর ভলবস এখন এসছ আম আর একবর কপ ...  \n",
              "3  যবনর সরপতর গরল মদর ঢল ন অধর তব ধর মহনর উরদধফণ ...  \n",
              "4  হজর বছর ধর আম পথ হটতছ পথবর পথ সহল সমদর থক নশথর...  "
            ],
            "text/html": [
              "\n",
              "  <div id=\"df-a7ba6aec-af08-4dd7-882e-b84c1eb77f3a\">\n",
              "    <div class=\"colab-df-container\">\n",
              "      <div>\n",
              "<style scoped>\n",
              "    .dataframe tbody tr th:only-of-type {\n",
              "        vertical-align: middle;\n",
              "    }\n",
              "\n",
              "    .dataframe tbody tr th {\n",
              "        vertical-align: top;\n",
              "    }\n",
              "\n",
              "    .dataframe thead th {\n",
              "        text-align: right;\n",
              "    }\n",
              "</style>\n",
              "<table border=\"1\" class=\"dataframe\">\n",
              "  <thead>\n",
              "    <tr style=\"text-align: right;\">\n",
              "      <th></th>\n",
              "      <th>class_id</th>\n",
              "      <th>sentence</th>\n",
              "      <th>text_length</th>\n",
              "      <th>Text_parsed</th>\n",
              "    </tr>\n",
              "  </thead>\n",
              "  <tbody>\n",
              "    <tr>\n",
              "      <th>0</th>\n",
              "      <td>1</td>\n",
              "      <td>১ পৃথিবীতে ঢের দিন বেঁচে থাকে আমাদের আয়ু এখন ম...</td>\n",
              "      <td>1113</td>\n",
              "      <td>১ পথবত ঢর দন বচ থক আমদর আয় এখন মতযর শবদ শন দনম...</td>\n",
              "    </tr>\n",
              "    <tr>\n",
              "      <th>1</th>\n",
              "      <td>1</td>\n",
              "      <td>প্রান্তরের পারে তব তিমিরের খেয়া নীরবে যেতেছে দ...</td>\n",
              "      <td>2018</td>\n",
              "      <td>পরনতরর পর তব তমরর খয় নরব যতছ দল নদল আলয় হথ গহব...</td>\n",
              "    </tr>\n",
              "    <tr>\n",
              "      <th>2</th>\n",
              "      <td>1</td>\n",
              "      <td>তোমার চোখের পরে তাহার মুখেরে ভালোবেসে এখানে এস...</td>\n",
              "      <td>954</td>\n",
              "      <td>তমর চখর পর তহর মখর ভলবস এখন এসছ আম আর একবর কপ ...</td>\n",
              "    </tr>\n",
              "    <tr>\n",
              "      <th>3</th>\n",
              "      <td>1</td>\n",
              "      <td>যৌবনের সুরাপাত্র গরল মদির ঢালো নি অধরে তব ধরা ...</td>\n",
              "      <td>2030</td>\n",
              "      <td>যবনর সরপতর গরল মদর ঢল ন অধর তব ধর মহনর উরদধফণ ...</td>\n",
              "    </tr>\n",
              "    <tr>\n",
              "      <th>4</th>\n",
              "      <td>1</td>\n",
              "      <td>হাজার বছর ধরে আমি পথ হাঁটিতেছি পৃথিবীর পথে সিং...</td>\n",
              "      <td>801</td>\n",
              "      <td>হজর বছর ধর আম পথ হটতছ পথবর পথ সহল সমদর থক নশথর...</td>\n",
              "    </tr>\n",
              "  </tbody>\n",
              "</table>\n",
              "</div>\n",
              "      <button class=\"colab-df-convert\" onclick=\"convertToInteractive('df-a7ba6aec-af08-4dd7-882e-b84c1eb77f3a')\"\n",
              "              title=\"Convert this dataframe to an interactive table.\"\n",
              "              style=\"display:none;\">\n",
              "        \n",
              "  <svg xmlns=\"http://www.w3.org/2000/svg\" height=\"24px\"viewBox=\"0 0 24 24\"\n",
              "       width=\"24px\">\n",
              "    <path d=\"M0 0h24v24H0V0z\" fill=\"none\"/>\n",
              "    <path d=\"M18.56 5.44l.94 2.06.94-2.06 2.06-.94-2.06-.94-.94-2.06-.94 2.06-2.06.94zm-11 1L8.5 8.5l.94-2.06 2.06-.94-2.06-.94L8.5 2.5l-.94 2.06-2.06.94zm10 10l.94 2.06.94-2.06 2.06-.94-2.06-.94-.94-2.06-.94 2.06-2.06.94z\"/><path d=\"M17.41 7.96l-1.37-1.37c-.4-.4-.92-.59-1.43-.59-.52 0-1.04.2-1.43.59L10.3 9.45l-7.72 7.72c-.78.78-.78 2.05 0 2.83L4 21.41c.39.39.9.59 1.41.59.51 0 1.02-.2 1.41-.59l7.78-7.78 2.81-2.81c.8-.78.8-2.07 0-2.86zM5.41 20L4 18.59l7.72-7.72 1.47 1.35L5.41 20z\"/>\n",
              "  </svg>\n",
              "      </button>\n",
              "      \n",
              "  <style>\n",
              "    .colab-df-container {\n",
              "      display:flex;\n",
              "      flex-wrap:wrap;\n",
              "      gap: 12px;\n",
              "    }\n",
              "\n",
              "    .colab-df-convert {\n",
              "      background-color: #E8F0FE;\n",
              "      border: none;\n",
              "      border-radius: 50%;\n",
              "      cursor: pointer;\n",
              "      display: none;\n",
              "      fill: #1967D2;\n",
              "      height: 32px;\n",
              "      padding: 0 0 0 0;\n",
              "      width: 32px;\n",
              "    }\n",
              "\n",
              "    .colab-df-convert:hover {\n",
              "      background-color: #E2EBFA;\n",
              "      box-shadow: 0px 1px 2px rgba(60, 64, 67, 0.3), 0px 1px 3px 1px rgba(60, 64, 67, 0.15);\n",
              "      fill: #174EA6;\n",
              "    }\n",
              "\n",
              "    [theme=dark] .colab-df-convert {\n",
              "      background-color: #3B4455;\n",
              "      fill: #D2E3FC;\n",
              "    }\n",
              "\n",
              "    [theme=dark] .colab-df-convert:hover {\n",
              "      background-color: #434B5C;\n",
              "      box-shadow: 0px 1px 3px 1px rgba(0, 0, 0, 0.15);\n",
              "      filter: drop-shadow(0px 1px 2px rgba(0, 0, 0, 0.3));\n",
              "      fill: #FFFFFF;\n",
              "    }\n",
              "  </style>\n",
              "\n",
              "      <script>\n",
              "        const buttonEl =\n",
              "          document.querySelector('#df-a7ba6aec-af08-4dd7-882e-b84c1eb77f3a button.colab-df-convert');\n",
              "        buttonEl.style.display =\n",
              "          google.colab.kernel.accessAllowed ? 'block' : 'none';\n",
              "\n",
              "        async function convertToInteractive(key) {\n",
              "          const element = document.querySelector('#df-a7ba6aec-af08-4dd7-882e-b84c1eb77f3a');\n",
              "          const dataTable =\n",
              "            await google.colab.kernel.invokeFunction('convertToInteractive',\n",
              "                                                     [key], {});\n",
              "          if (!dataTable) return;\n",
              "\n",
              "          const docLinkHtml = 'Like what you see? Visit the ' +\n",
              "            '<a target=\"_blank\" href=https://colab.research.google.com/notebooks/data_table.ipynb>data table notebook</a>'\n",
              "            + ' to learn more about interactive tables.';\n",
              "          element.innerHTML = '';\n",
              "          dataTable['output_type'] = 'display_data';\n",
              "          await google.colab.output.renderOutput(dataTable, element);\n",
              "          const docLink = document.createElement('div');\n",
              "          docLink.innerHTML = docLinkHtml;\n",
              "          element.appendChild(docLink);\n",
              "        }\n",
              "      </script>\n",
              "    </div>\n",
              "  </div>\n",
              "  "
            ]
          },
          "metadata": {},
          "execution_count": 11
        }
      ]
    },
    {
      "cell_type": "code",
      "source": [
        "data['sentence'] = data['sentence'].apply(process_text)\n",
        "data.head()"
      ],
      "metadata": {
        "colab": {
          "base_uri": "https://localhost:8080/",
          "height": 206
        },
        "id": "oPX1UNRv1_lP",
        "outputId": "dffad1bf-7eaa-4135-e66f-253ea32b61ef"
      },
      "execution_count": null,
      "outputs": [
        {
          "output_type": "execute_result",
          "data": {
            "text/plain": [
              "   class_id                                           sentence  text_length  \\\n",
              "0         1  ১ পথবত ঢর দন বচ থক আমদর আয় এখন মতযর শবদ শন দনম...         1113   \n",
              "1         1  পরনতরর পর তব তমরর খয় নরব যতছ দল নদল আলয় হথ গহব...         2018   \n",
              "2         1  তমর চখর পর তহর মখর ভলবস এখন এসছ আম আর একবর কপ ...          954   \n",
              "3         1  যবনর সরপতর গরল মদর ঢল ন অধর তব ধর মহনর উরদধফণ ...         2030   \n",
              "4         1  হজর বছর ধর আম পথ হটতছ পথবর পথ সহল সমদর থক নশথর...          801   \n",
              "\n",
              "                                         Text_parsed  \n",
              "0  ১ পথবত ঢর দন বচ থক আমদর আয় এখন মতযর শবদ শন দনম...  \n",
              "1  পরনতরর পর তব তমরর খয় নরব যতছ দল নদল আলয় হথ গহব...  \n",
              "2  তমর চখর পর তহর মখর ভলবস এখন এসছ আম আর একবর কপ ...  \n",
              "3  যবনর সরপতর গরল মদর ঢল ন অধর তব ধর মহনর উরদধফণ ...  \n",
              "4  হজর বছর ধর আম পথ হটতছ পথবর পথ সহল সমদর থক নশথর...  "
            ],
            "text/html": [
              "\n",
              "  <div id=\"df-2d9cd634-ec44-4f4c-bb2f-c078a1f44b71\">\n",
              "    <div class=\"colab-df-container\">\n",
              "      <div>\n",
              "<style scoped>\n",
              "    .dataframe tbody tr th:only-of-type {\n",
              "        vertical-align: middle;\n",
              "    }\n",
              "\n",
              "    .dataframe tbody tr th {\n",
              "        vertical-align: top;\n",
              "    }\n",
              "\n",
              "    .dataframe thead th {\n",
              "        text-align: right;\n",
              "    }\n",
              "</style>\n",
              "<table border=\"1\" class=\"dataframe\">\n",
              "  <thead>\n",
              "    <tr style=\"text-align: right;\">\n",
              "      <th></th>\n",
              "      <th>class_id</th>\n",
              "      <th>sentence</th>\n",
              "      <th>text_length</th>\n",
              "      <th>Text_parsed</th>\n",
              "    </tr>\n",
              "  </thead>\n",
              "  <tbody>\n",
              "    <tr>\n",
              "      <th>0</th>\n",
              "      <td>1</td>\n",
              "      <td>১ পথবত ঢর দন বচ থক আমদর আয় এখন মতযর শবদ শন দনম...</td>\n",
              "      <td>1113</td>\n",
              "      <td>১ পথবত ঢর দন বচ থক আমদর আয় এখন মতযর শবদ শন দনম...</td>\n",
              "    </tr>\n",
              "    <tr>\n",
              "      <th>1</th>\n",
              "      <td>1</td>\n",
              "      <td>পরনতরর পর তব তমরর খয় নরব যতছ দল নদল আলয় হথ গহব...</td>\n",
              "      <td>2018</td>\n",
              "      <td>পরনতরর পর তব তমরর খয় নরব যতছ দল নদল আলয় হথ গহব...</td>\n",
              "    </tr>\n",
              "    <tr>\n",
              "      <th>2</th>\n",
              "      <td>1</td>\n",
              "      <td>তমর চখর পর তহর মখর ভলবস এখন এসছ আম আর একবর কপ ...</td>\n",
              "      <td>954</td>\n",
              "      <td>তমর চখর পর তহর মখর ভলবস এখন এসছ আম আর একবর কপ ...</td>\n",
              "    </tr>\n",
              "    <tr>\n",
              "      <th>3</th>\n",
              "      <td>1</td>\n",
              "      <td>যবনর সরপতর গরল মদর ঢল ন অধর তব ধর মহনর উরদধফণ ...</td>\n",
              "      <td>2030</td>\n",
              "      <td>যবনর সরপতর গরল মদর ঢল ন অধর তব ধর মহনর উরদধফণ ...</td>\n",
              "    </tr>\n",
              "    <tr>\n",
              "      <th>4</th>\n",
              "      <td>1</td>\n",
              "      <td>হজর বছর ধর আম পথ হটতছ পথবর পথ সহল সমদর থক নশথর...</td>\n",
              "      <td>801</td>\n",
              "      <td>হজর বছর ধর আম পথ হটতছ পথবর পথ সহল সমদর থক নশথর...</td>\n",
              "    </tr>\n",
              "  </tbody>\n",
              "</table>\n",
              "</div>\n",
              "      <button class=\"colab-df-convert\" onclick=\"convertToInteractive('df-2d9cd634-ec44-4f4c-bb2f-c078a1f44b71')\"\n",
              "              title=\"Convert this dataframe to an interactive table.\"\n",
              "              style=\"display:none;\">\n",
              "        \n",
              "  <svg xmlns=\"http://www.w3.org/2000/svg\" height=\"24px\"viewBox=\"0 0 24 24\"\n",
              "       width=\"24px\">\n",
              "    <path d=\"M0 0h24v24H0V0z\" fill=\"none\"/>\n",
              "    <path d=\"M18.56 5.44l.94 2.06.94-2.06 2.06-.94-2.06-.94-.94-2.06-.94 2.06-2.06.94zm-11 1L8.5 8.5l.94-2.06 2.06-.94-2.06-.94L8.5 2.5l-.94 2.06-2.06.94zm10 10l.94 2.06.94-2.06 2.06-.94-2.06-.94-.94-2.06-.94 2.06-2.06.94z\"/><path d=\"M17.41 7.96l-1.37-1.37c-.4-.4-.92-.59-1.43-.59-.52 0-1.04.2-1.43.59L10.3 9.45l-7.72 7.72c-.78.78-.78 2.05 0 2.83L4 21.41c.39.39.9.59 1.41.59.51 0 1.02-.2 1.41-.59l7.78-7.78 2.81-2.81c.8-.78.8-2.07 0-2.86zM5.41 20L4 18.59l7.72-7.72 1.47 1.35L5.41 20z\"/>\n",
              "  </svg>\n",
              "      </button>\n",
              "      \n",
              "  <style>\n",
              "    .colab-df-container {\n",
              "      display:flex;\n",
              "      flex-wrap:wrap;\n",
              "      gap: 12px;\n",
              "    }\n",
              "\n",
              "    .colab-df-convert {\n",
              "      background-color: #E8F0FE;\n",
              "      border: none;\n",
              "      border-radius: 50%;\n",
              "      cursor: pointer;\n",
              "      display: none;\n",
              "      fill: #1967D2;\n",
              "      height: 32px;\n",
              "      padding: 0 0 0 0;\n",
              "      width: 32px;\n",
              "    }\n",
              "\n",
              "    .colab-df-convert:hover {\n",
              "      background-color: #E2EBFA;\n",
              "      box-shadow: 0px 1px 2px rgba(60, 64, 67, 0.3), 0px 1px 3px 1px rgba(60, 64, 67, 0.15);\n",
              "      fill: #174EA6;\n",
              "    }\n",
              "\n",
              "    [theme=dark] .colab-df-convert {\n",
              "      background-color: #3B4455;\n",
              "      fill: #D2E3FC;\n",
              "    }\n",
              "\n",
              "    [theme=dark] .colab-df-convert:hover {\n",
              "      background-color: #434B5C;\n",
              "      box-shadow: 0px 1px 3px 1px rgba(0, 0, 0, 0.15);\n",
              "      filter: drop-shadow(0px 1px 2px rgba(0, 0, 0, 0.3));\n",
              "      fill: #FFFFFF;\n",
              "    }\n",
              "  </style>\n",
              "\n",
              "      <script>\n",
              "        const buttonEl =\n",
              "          document.querySelector('#df-2d9cd634-ec44-4f4c-bb2f-c078a1f44b71 button.colab-df-convert');\n",
              "        buttonEl.style.display =\n",
              "          google.colab.kernel.accessAllowed ? 'block' : 'none';\n",
              "\n",
              "        async function convertToInteractive(key) {\n",
              "          const element = document.querySelector('#df-2d9cd634-ec44-4f4c-bb2f-c078a1f44b71');\n",
              "          const dataTable =\n",
              "            await google.colab.kernel.invokeFunction('convertToInteractive',\n",
              "                                                     [key], {});\n",
              "          if (!dataTable) return;\n",
              "\n",
              "          const docLinkHtml = 'Like what you see? Visit the ' +\n",
              "            '<a target=\"_blank\" href=https://colab.research.google.com/notebooks/data_table.ipynb>data table notebook</a>'\n",
              "            + ' to learn more about interactive tables.';\n",
              "          element.innerHTML = '';\n",
              "          dataTable['output_type'] = 'display_data';\n",
              "          await google.colab.output.renderOutput(dataTable, element);\n",
              "          const docLink = document.createElement('div');\n",
              "          docLink.innerHTML = docLinkHtml;\n",
              "          element.appendChild(docLink);\n",
              "        }\n",
              "      </script>\n",
              "    </div>\n",
              "  </div>\n",
              "  "
            ]
          },
          "metadata": {},
          "execution_count": 12
        }
      ]
    },
    {
      "cell_type": "code",
      "source": [
        "X = data['sentence'].values"
      ],
      "metadata": {
        "id": "QboBEXN4iKHt"
      },
      "execution_count": null,
      "outputs": []
    },
    {
      "cell_type": "code",
      "source": [
        "#Label Encoding\n",
        "\n",
        "\n",
        "from sklearn import preprocessing\n",
        "label_encoder = preprocessing.LabelEncoder()\n",
        "data['Category_target']= label_encoder.fit_transform(data['class_id'])\n",
        "#BBC_News.head()\n"
      ],
      "metadata": {
        "id": "wTChhLHlM0mb"
      },
      "execution_count": null,
      "outputs": []
    },
    {
      "cell_type": "code",
      "source": [
        "\n",
        "#Split the data in Training and testing\n",
        "X_train, X_test, y_train, y_test = train_test_split(data['sentence'],\n",
        "                                                    data['class_id'],\n",
        "                                                    test_size=0.2,\n",
        "                                                    random_state=8)"
      ],
      "metadata": {
        "id": "pk2cRSabNRZm"
      },
      "execution_count": null,
      "outputs": []
    },
    {
      "cell_type": "code",
      "source": [
        "X_train.shape"
      ],
      "metadata": {
        "colab": {
          "base_uri": "https://localhost:8080/"
        },
        "id": "PYDOmBy8jtQS",
        "outputId": "3e062330-e578-4386-99fa-9939921255c1"
      },
      "execution_count": null,
      "outputs": [
        {
          "output_type": "execute_result",
          "data": {
            "text/plain": [
              "(21940,)"
            ]
          },
          "metadata": {},
          "execution_count": 16
        }
      ]
    },
    {
      "cell_type": "code",
      "source": [
        "X_test.shape"
      ],
      "metadata": {
        "colab": {
          "base_uri": "https://localhost:8080/"
        },
        "id": "94Z6CMXWjzit",
        "outputId": "facdae95-00e7-4271-a9f7-feecac0a91b5"
      },
      "execution_count": null,
      "outputs": [
        {
          "output_type": "execute_result",
          "data": {
            "text/plain": [
              "(5486,)"
            ]
          },
          "metadata": {},
          "execution_count": 17
        }
      ]
    },
    {
      "cell_type": "code",
      "source": [
        "ngram_range = (1,2)\n",
        "min_df = 10\n",
        "max_df = 1.\n",
        "max_features = 300"
      ],
      "metadata": {
        "id": "BFcgeAVONRcg"
      },
      "execution_count": null,
      "outputs": []
    },
    {
      "cell_type": "code",
      "source": [],
      "metadata": {
        "id": "1GmDpmahjrxT"
      },
      "execution_count": null,
      "outputs": []
    },
    {
      "cell_type": "code",
      "source": [
        "tfidf = TfidfVectorizer(encoding='utf-8',\n",
        "                        ngram_range=ngram_range,\n",
        "                        stop_words=None,\n",
        "                        lowercase=False,\n",
        "                        max_df=max_df,\n",
        "                        min_df=min_df,\n",
        "                        max_features=max_features,\n",
        "                        norm='l2',\n",
        "                        sublinear_tf=True)\n",
        "\n",
        "features_train = tfidf.fit_transform(X_train).toarray()\n",
        "labels_train = y_train\n",
        "print(features_train)\n",
        "\n",
        "features_test = tfidf.transform(X_test).toarray()\n",
        "labels_test = y_test\n",
        "print(features_test.shape)"
      ],
      "metadata": {
        "colab": {
          "base_uri": "https://localhost:8080/"
        },
        "id": "3KL2l25HNZgG",
        "outputId": "b9776d58-8fa6-48d7-bd27-2f4f29236f50"
      },
      "execution_count": null,
      "outputs": [
        {
          "output_type": "stream",
          "name": "stdout",
          "text": [
            "[[0.         0.         0.         ... 0.         0.         0.        ]\n",
            " [0.         0.         0.         ... 0.         0.         0.07838807]\n",
            " [0.10431091 0.0660248  0.         ... 0.         0.         0.        ]\n",
            " ...\n",
            " [0.         0.         0.         ... 0.         0.         0.        ]\n",
            " [0.07614942 0.         0.         ... 0.         0.         0.12614576]\n",
            " [0.         0.         0.         ... 0.         0.         0.        ]]\n",
            "(5486, 300)\n"
          ]
        }
      ]
    },
    {
      "cell_type": "code",
      "source": [
        "#Building Models\n",
        "#Random Forest\n",
        "\n",
        "\n",
        "from sklearn.ensemble import RandomForestClassifier\n",
        "model  = RandomForestClassifier(random_state=1)\n",
        "model.fit(features_train, labels_train)\n",
        "model_predictions = model.predict(features_test)\n",
        "print('Accuracy: ', accuracy_score(labels_test, model_predictions))\n",
        "print(classification_report(labels_test, model_predictions))"
      ],
      "metadata": {
        "colab": {
          "base_uri": "https://localhost:8080/"
        },
        "id": "f8sAZhc6NdLG",
        "outputId": "fae1f63f-557c-4688-c77b-4194c39a6edd"
      },
      "execution_count": null,
      "outputs": [
        {
          "output_type": "stream",
          "name": "stdout",
          "text": [
            "Accuracy:  0.8238095238095238\n",
            "              precision    recall  f1-score   support\n",
            "\n",
            "          fe       0.84      0.82      0.83        72\n",
            "          hm       0.84      0.89      0.87        55\n",
            "          ij       0.84      0.93      0.88        67\n",
            "          mk       0.78      0.81      0.79        77\n",
            "          rg       0.87      0.68      0.77        79\n",
            "          rn       0.79      0.86      0.82        70\n",
            "\n",
            "    accuracy                           0.82       420\n",
            "   macro avg       0.83      0.83      0.83       420\n",
            "weighted avg       0.83      0.82      0.82       420\n",
            "\n"
          ]
        }
      ]
    },
    {
      "cell_type": "code",
      "source": [
        "model.get_params()"
      ],
      "metadata": {
        "colab": {
          "base_uri": "https://localhost:8080/"
        },
        "id": "8FM4xDaFNRfn",
        "outputId": "46105b88-c391-428e-f045-161fa6157838"
      },
      "execution_count": null,
      "outputs": [
        {
          "output_type": "execute_result",
          "data": {
            "text/plain": [
              "{'bootstrap': True,\n",
              " 'ccp_alpha': 0.0,\n",
              " 'class_weight': None,\n",
              " 'criterion': 'gini',\n",
              " 'max_depth': None,\n",
              " 'max_features': 'auto',\n",
              " 'max_leaf_nodes': None,\n",
              " 'max_samples': None,\n",
              " 'min_impurity_decrease': 0.0,\n",
              " 'min_samples_leaf': 1,\n",
              " 'min_samples_split': 2,\n",
              " 'min_weight_fraction_leaf': 0.0,\n",
              " 'n_estimators': 100,\n",
              " 'n_jobs': None,\n",
              " 'oob_score': False,\n",
              " 'random_state': 1,\n",
              " 'verbose': 0,\n",
              " 'warm_start': False}"
            ]
          },
          "metadata": {},
          "execution_count": 24
        }
      ]
    },
    {
      "cell_type": "code",
      "source": [
        "#Hyper Paramater Tuning(Random Forest)\n",
        "\n",
        "from sklearn.model_selection import GridSearchCV\n",
        "n_estimators = [100, 300, 500, 800, 1200]\n",
        "max_depth = [5, 8, 15, 25, 30]\n",
        "min_samples_split = [2, 5, 10, 15, 100]\n",
        "min_samples_leaf = [1, 2, 5, 10]\n",
        "\n",
        "hyperF = dict(n_estimators = n_estimators, max_depth = max_depth,\n",
        "              min_samples_split = min_samples_split,\n",
        "             min_samples_leaf = min_samples_leaf)\n",
        "\n",
        "gridF = GridSearchCV(model, hyperF, cv = 3, verbose = 1,\n",
        "                      n_jobs = -1)\n",
        "bestF = gridF.fit(features_train, labels_train)"
      ],
      "metadata": {
        "colab": {
          "base_uri": "https://localhost:8080/"
        },
        "id": "16x-vKeQNtzW",
        "outputId": "4136c696-7d24-41a6-e292-d127e8fe1b6f"
      },
      "execution_count": null,
      "outputs": [
        {
          "output_type": "stream",
          "name": "stdout",
          "text": [
            "Fitting 3 folds for each of 500 candidates, totalling 1500 fits\n"
          ]
        }
      ]
    },
    {
      "cell_type": "code",
      "source": [
        "bestF.best_params_"
      ],
      "metadata": {
        "colab": {
          "base_uri": "https://localhost:8080/"
        },
        "id": "l62gDmkfNt2S",
        "outputId": "03a38931-06b7-4d89-aee1-95537faa9605"
      },
      "execution_count": null,
      "outputs": [
        {
          "output_type": "execute_result",
          "data": {
            "text/plain": [
              "{'max_depth': 15,\n",
              " 'min_samples_leaf': 1,\n",
              " 'min_samples_split': 5,\n",
              " 'n_estimators': 1200}"
            ]
          },
          "metadata": {},
          "execution_count": 31
        }
      ]
    },
    {
      "cell_type": "code",
      "source": [
        "from sklearn.ensemble import RandomForestClassifier\n",
        "model1  = RandomForestClassifier(random_state=1,max_depth= 30, min_samples_leaf= 1, min_samples_split= 2, n_estimators= 100)\n",
        "model1.fit(features_train, labels_train)\n",
        "model_predictions = model1.predict(features_test)\n",
        "print('Accuracy: ', accuracy_score(labels_test, model_predictions))\n",
        "print(classification_report(labels_test, model_predictions))"
      ],
      "metadata": {
        "colab": {
          "base_uri": "https://localhost:8080/"
        },
        "id": "OVkA5zmON5-s",
        "outputId": "223b82ec-7687-4153-9dab-8ccfb895510a"
      },
      "execution_count": null,
      "outputs": [
        {
          "output_type": "stream",
          "name": "stdout",
          "text": [
            "Accuracy:  0.8238095238095238\n",
            "              precision    recall  f1-score   support\n",
            "\n",
            "          fe       0.84      0.82      0.83        72\n",
            "          hm       0.84      0.89      0.87        55\n",
            "          ij       0.84      0.93      0.88        67\n",
            "          mk       0.78      0.81      0.79        77\n",
            "          rg       0.87      0.68      0.77        79\n",
            "          rn       0.79      0.86      0.82        70\n",
            "\n",
            "    accuracy                           0.82       420\n",
            "   macro avg       0.83      0.83      0.83       420\n",
            "weighted avg       0.83      0.82      0.82       420\n",
            "\n"
          ]
        }
      ]
    },
    {
      "cell_type": "code",
      "source": [],
      "metadata": {
        "id": "fO2TbuVi6fsB"
      },
      "execution_count": null,
      "outputs": []
    },
    {
      "cell_type": "code",
      "source": [
        "#svm\n",
        "\n",
        "smodel = svm . SVC ( C = 3, gamma = 'scale', kernel = 'rbf' )\n",
        "\n",
        "smodel . fit ( sent_vectors , y_train )"
      ],
      "metadata": {
        "id": "CJKZR_ht6f3B"
      },
      "execution_count": null,
      "outputs": []
    },
    {
      "cell_type": "code",
      "source": [
        "#Logistic Regression\n",
        "\n",
        "\n",
        "model = LogisticRegression()\n",
        "print(model.get_params())\n",
        "model.fit(features_train, labels_train)\n",
        "model_predictions = model.predict(features_test)\n",
        "print('Accuracy: ', accuracy_score(labels_test, model_predictions))\n",
        "print(classification_report(labels_test, model_predictions))"
      ],
      "metadata": {
        "colab": {
          "base_uri": "https://localhost:8080/"
        },
        "id": "c4UO17dtOhwE",
        "outputId": "ea001999-f25d-4bc5-e42c-b177b016c361"
      },
      "execution_count": null,
      "outputs": [
        {
          "output_type": "stream",
          "name": "stdout",
          "text": [
            "{'C': 1.0, 'class_weight': None, 'dual': False, 'fit_intercept': True, 'intercept_scaling': 1, 'l1_ratio': None, 'max_iter': 100, 'multi_class': 'auto', 'n_jobs': None, 'penalty': 'l2', 'random_state': None, 'solver': 'lbfgs', 'tol': 0.0001, 'verbose': 0, 'warm_start': False}\n",
            "Accuracy:  0.8785714285714286\n",
            "              precision    recall  f1-score   support\n",
            "\n",
            "          fe       0.88      0.85      0.87        72\n",
            "          hm       0.86      0.93      0.89        55\n",
            "          ij       0.95      0.93      0.94        67\n",
            "          mk       0.83      0.88      0.86        77\n",
            "          rg       0.94      0.82      0.88        79\n",
            "          rn       0.82      0.89      0.85        70\n",
            "\n",
            "    accuracy                           0.88       420\n",
            "   macro avg       0.88      0.88      0.88       420\n",
            "weighted avg       0.88      0.88      0.88       420\n",
            "\n"
          ]
        }
      ]
    },
    {
      "cell_type": "code",
      "source": [
        "#Hyper Parameter Tuning (Logistic Regression)\n",
        "\n",
        "param_grid = {'C': [0.1,0.001,1],\n",
        "    # Create a list of options for the regularization penalty\n",
        "    'penalty' : ['l1', 'l2'] }\n",
        "clf = GridSearchCV(model, param_grid, cv = 3, verbose = 1)\n",
        "\n",
        "bestF = clf.fit(features_train, labels_train)\n",
        "bestF.best_params_"
      ],
      "metadata": {
        "colab": {
          "base_uri": "https://localhost:8080/"
        },
        "id": "YELdUxhvOtPJ",
        "outputId": "79e7a1f3-296c-4403-a9ba-7561177b1d62"
      },
      "execution_count": null,
      "outputs": [
        {
          "output_type": "stream",
          "name": "stdout",
          "text": [
            "Fitting 3 folds for each of 6 candidates, totalling 18 fits\n"
          ]
        },
        {
          "output_type": "execute_result",
          "data": {
            "text/plain": [
              "{'C': 1, 'penalty': 'l2'}"
            ]
          },
          "metadata": {},
          "execution_count": 34
        }
      ]
    },
    {
      "cell_type": "code",
      "source": [
        "model = LogisticRegression(C=1)\n",
        "model.fit(features_train, labels_train)\n",
        "model_predictions = model.predict(features_test)\n",
        "print('Accuracy: ', accuracy_score(labels_test, model_predictions))\n",
        "print(classification_report(labels_test, model_predictions))"
      ],
      "metadata": {
        "colab": {
          "base_uri": "https://localhost:8080/"
        },
        "id": "C3GAP1-HO0CH",
        "outputId": "ae6e314e-3536-46ef-9b19-45b5f9c81270"
      },
      "execution_count": null,
      "outputs": [
        {
          "output_type": "stream",
          "name": "stdout",
          "text": [
            "Accuracy:  0.8785714285714286\n",
            "              precision    recall  f1-score   support\n",
            "\n",
            "          fe       0.88      0.85      0.87        72\n",
            "          hm       0.86      0.93      0.89        55\n",
            "          ij       0.95      0.93      0.94        67\n",
            "          mk       0.83      0.88      0.86        77\n",
            "          rg       0.94      0.82      0.88        79\n",
            "          rn       0.82      0.89      0.85        70\n",
            "\n",
            "    accuracy                           0.88       420\n",
            "   macro avg       0.88      0.88      0.88       420\n",
            "weighted avg       0.88      0.88      0.88       420\n",
            "\n"
          ]
        }
      ]
    },
    {
      "cell_type": "code",
      "source": [
        "#KNeighborsClassifier\n",
        "\n",
        "\n",
        "model = KNeighborsClassifier()\n",
        "model.fit(features_train, labels_train)\n",
        "model_predictions = model.predict(features_test)\n",
        "print('Accuracy: ', accuracy_score(labels_test, model_predictions))\n",
        "print(classification_report(labels_test, model_predictions))"
      ],
      "metadata": {
        "colab": {
          "base_uri": "https://localhost:8080/"
        },
        "id": "WZmEwg4gPCFm",
        "outputId": "ac66397b-f960-490d-edec-e6bf7401e418"
      },
      "execution_count": null,
      "outputs": [
        {
          "output_type": "stream",
          "name": "stdout",
          "text": [
            "Accuracy:  0.7023809523809523\n",
            "              precision    recall  f1-score   support\n",
            "\n",
            "          fe       0.66      0.64      0.65        72\n",
            "          hm       0.56      0.95      0.70        55\n",
            "          ij       0.75      0.82      0.79        67\n",
            "          mk       0.65      0.86      0.74        77\n",
            "          rg       0.90      0.54      0.68        79\n",
            "          rn       0.97      0.47      0.63        70\n",
            "\n",
            "    accuracy                           0.70       420\n",
            "   macro avg       0.75      0.71      0.70       420\n",
            "weighted avg       0.75      0.70      0.70       420\n",
            "\n"
          ]
        }
      ]
    },
    {
      "cell_type": "code",
      "source": [
        "model.get_params()"
      ],
      "metadata": {
        "colab": {
          "base_uri": "https://localhost:8080/"
        },
        "id": "uTgm7r9FPCIk",
        "outputId": "341a4f23-1b41-4ca8-f378-79bbfff447bd"
      },
      "execution_count": null,
      "outputs": [
        {
          "output_type": "execute_result",
          "data": {
            "text/plain": [
              "{'algorithm': 'auto',\n",
              " 'leaf_size': 30,\n",
              " 'metric': 'minkowski',\n",
              " 'metric_params': None,\n",
              " 'n_jobs': None,\n",
              " 'n_neighbors': 5,\n",
              " 'p': 2,\n",
              " 'weights': 'uniform'}"
            ]
          },
          "metadata": {},
          "execution_count": 37
        }
      ]
    },
    {
      "cell_type": "code",
      "source": [
        "#Hyper Paramaters Tuning (KNeighborsClassifier)\n",
        "\n",
        "from sklearn.model_selection import GridSearchCV\n",
        "params_KNN = {'n_neighbors': [1, 2, 3, 4, 5, 6, 7],\n",
        "              'p': [1, 2, 5]}\n",
        "\n",
        "\n",
        "gridF = GridSearchCV(model, params_KNN, cv = 5, verbose = 1,\n",
        "                      n_jobs = -1)\n",
        "bestF = gridF.fit(features_train, labels_train)"
      ],
      "metadata": {
        "colab": {
          "base_uri": "https://localhost:8080/"
        },
        "id": "bVvVyn1hPKhi",
        "outputId": "b6d54158-8ed9-4d72-c1da-8fa2045b038d"
      },
      "execution_count": null,
      "outputs": [
        {
          "output_type": "stream",
          "name": "stdout",
          "text": [
            "Fitting 5 folds for each of 21 candidates, totalling 105 fits\n"
          ]
        }
      ]
    },
    {
      "cell_type": "code",
      "source": [
        "bestF.best_params_"
      ],
      "metadata": {
        "colab": {
          "base_uri": "https://localhost:8080/"
        },
        "id": "ijQ5v5isPKkY",
        "outputId": "d533f7ac-bd01-451f-b898-d501e2e325a6"
      },
      "execution_count": null,
      "outputs": [
        {
          "output_type": "execute_result",
          "data": {
            "text/plain": [
              "{'n_neighbors': 7, 'p': 1}"
            ]
          },
          "metadata": {},
          "execution_count": 39
        }
      ]
    },
    {
      "cell_type": "code",
      "source": [
        "model = KNeighborsClassifier(n_neighbors=7,p=2)\n",
        "model.fit(features_train, labels_train)\n",
        "model_predictions = model.predict(features_test)\n",
        "print('Accuracy: ', accuracy_score(labels_test, model_predictions))\n",
        "print(classification_report(labels_test, model_predictions))"
      ],
      "metadata": {
        "colab": {
          "base_uri": "https://localhost:8080/"
        },
        "id": "pi4hNPcFPKpm",
        "outputId": "f3bc2ece-dc6b-465f-c408-d443a303a8eb"
      },
      "execution_count": null,
      "outputs": [
        {
          "output_type": "stream",
          "name": "stdout",
          "text": [
            "Accuracy:  0.6833333333333333\n",
            "              precision    recall  f1-score   support\n",
            "\n",
            "          fe       0.56      0.64      0.60        72\n",
            "          hm       0.57      0.95      0.71        55\n",
            "          ij       0.79      0.81      0.80        67\n",
            "          mk       0.64      0.83      0.72        77\n",
            "          rg       0.88      0.48      0.62        79\n",
            "          rn       0.94      0.47      0.63        70\n",
            "\n",
            "    accuracy                           0.68       420\n",
            "   macro avg       0.73      0.70      0.68       420\n",
            "weighted avg       0.74      0.68      0.68       420\n",
            "\n"
          ]
        }
      ]
    },
    {
      "cell_type": "code",
      "source": [
        "#Decision Tree\n",
        "\n",
        "\n",
        "model = DecisionTreeClassifier(random_state=1)\n",
        "model.fit(features_train, labels_train)\n",
        "model_predictions = model.predict(features_test)\n",
        "print('Accuracy: ', accuracy_score(labels_test, model_predictions))\n",
        "print(classification_report(labels_test, model_predictions))"
      ],
      "metadata": {
        "colab": {
          "base_uri": "https://localhost:8080/"
        },
        "id": "k4dk1qt_PXKK",
        "outputId": "a62f39af-6627-41be-8762-fbd69fcf8ba0"
      },
      "execution_count": null,
      "outputs": [
        {
          "output_type": "stream",
          "name": "stdout",
          "text": [
            "Accuracy:  0.5142857142857142\n",
            "              precision    recall  f1-score   support\n",
            "\n",
            "          fe       0.49      0.50      0.49        72\n",
            "          hm       0.57      0.69      0.62        55\n",
            "          ij       0.58      0.51      0.54        67\n",
            "          mk       0.58      0.56      0.57        77\n",
            "          rg       0.46      0.43      0.44        79\n",
            "          rn       0.43      0.44      0.44        70\n",
            "\n",
            "    accuracy                           0.51       420\n",
            "   macro avg       0.52      0.52      0.52       420\n",
            "weighted avg       0.51      0.51      0.51       420\n",
            "\n"
          ]
        }
      ]
    },
    {
      "cell_type": "code",
      "source": [
        "\n",
        "model.get_params()"
      ],
      "metadata": {
        "colab": {
          "base_uri": "https://localhost:8080/"
        },
        "id": "uOC6Pr9vPbAf",
        "outputId": "def3e9a6-a778-4530-a551-52cca264f9ef"
      },
      "execution_count": null,
      "outputs": [
        {
          "output_type": "execute_result",
          "data": {
            "text/plain": [
              "{'ccp_alpha': 0.0,\n",
              " 'class_weight': None,\n",
              " 'criterion': 'gini',\n",
              " 'max_depth': None,\n",
              " 'max_features': None,\n",
              " 'max_leaf_nodes': None,\n",
              " 'min_impurity_decrease': 0.0,\n",
              " 'min_samples_leaf': 1,\n",
              " 'min_samples_split': 2,\n",
              " 'min_weight_fraction_leaf': 0.0,\n",
              " 'random_state': 1,\n",
              " 'splitter': 'best'}"
            ]
          },
          "metadata": {},
          "execution_count": 42
        }
      ]
    },
    {
      "cell_type": "code",
      "source": [
        "#Hyper Paramter Tuning (Decision Tree)\n",
        "\n",
        "import numpy as np\n",
        "from scipy.stats import randint\n",
        "from sklearn.model_selection import GridSearchCV,RandomizedSearchCV\n",
        "\n",
        "min_samples_leaf = randint(1,9)\n",
        "\n",
        "criterion = ['gini', 'entropy']\n",
        "max_depth = [3,None]\n",
        "\n",
        "\n",
        "\n",
        "hyperF = dict(max_depth=max_depth,\n",
        "                      criterion=criterion,\n",
        "                      min_samples_leaf=min_samples_leaf)\n",
        "\n",
        "model  = DecisionTreeClassifier(random_state=1)\n",
        "gridF = RandomizedSearchCV(model, hyperF, cv = 3, verbose = 1)\n",
        "bestF = gridF.fit(features_train, labels_train)"
      ],
      "metadata": {
        "colab": {
          "base_uri": "https://localhost:8080/"
        },
        "id": "6iAT7AI0Pf5v",
        "outputId": "dc6d151f-5e29-4e00-85c7-52c843f6c613"
      },
      "execution_count": null,
      "outputs": [
        {
          "output_type": "stream",
          "name": "stdout",
          "text": [
            "Fitting 3 folds for each of 10 candidates, totalling 30 fits\n"
          ]
        }
      ]
    },
    {
      "cell_type": "code",
      "source": [
        "\n",
        "bestF.best_params_\n"
      ],
      "metadata": {
        "colab": {
          "base_uri": "https://localhost:8080/"
        },
        "id": "aDWv2zNOPf80",
        "outputId": "7f23fc9e-aadf-48ce-e248-2d7e5e00d153"
      },
      "execution_count": null,
      "outputs": [
        {
          "output_type": "execute_result",
          "data": {
            "text/plain": [
              "{'criterion': 'entropy', 'max_depth': None, 'min_samples_leaf': 5}"
            ]
          },
          "metadata": {},
          "execution_count": 44
        }
      ]
    },
    {
      "cell_type": "code",
      "source": [
        "model = DecisionTreeClassifier(random_state=1,criterion= 'entropy', max_depth= None,min_samples_leaf=6)\n",
        "model.fit(features_train, labels_train)\n",
        "model_predictions = model.predict(features_test)\n",
        "print('Accuracy: ', accuracy_score(labels_test, model_predictions))\n",
        "print(classification_report(labels_test, model_predictions))"
      ],
      "metadata": {
        "colab": {
          "base_uri": "https://localhost:8080/"
        },
        "id": "boC1JNcfPo4y",
        "outputId": "9f8e2c3a-cd58-40de-864e-7c3e560d4d35"
      },
      "execution_count": null,
      "outputs": [
        {
          "output_type": "stream",
          "name": "stdout",
          "text": [
            "Accuracy:  0.5166666666666667\n",
            "              precision    recall  f1-score   support\n",
            "\n",
            "          fe       0.52      0.57      0.54        72\n",
            "          hm       0.69      0.73      0.71        55\n",
            "          ij       0.61      0.63      0.62        67\n",
            "          mk       0.49      0.40      0.44        77\n",
            "          rg       0.40      0.47      0.43        79\n",
            "          rn       0.44      0.37      0.40        70\n",
            "\n",
            "    accuracy                           0.52       420\n",
            "   macro avg       0.53      0.53      0.52       420\n",
            "weighted avg       0.52      0.52      0.51       420\n",
            "\n"
          ]
        }
      ]
    },
    {
      "cell_type": "code",
      "source": [
        "\n",
        "#GaussianNB\n",
        "\n",
        "model = GaussianNB()\n",
        "model.fit(features_train, labels_train)\n",
        "model_predictions = model.predict(features_test)\n",
        "print('Accuracy: ', accuracy_score(labels_test, model_predictions))\n",
        "print(classification_report(labels_test, model_predictions))"
      ],
      "metadata": {
        "colab": {
          "base_uri": "https://localhost:8080/"
        },
        "id": "7F0rY9-HPuoG",
        "outputId": "748209fc-9f67-4ba7-9d6b-25a27fe17517"
      },
      "execution_count": null,
      "outputs": [
        {
          "output_type": "stream",
          "name": "stdout",
          "text": [
            "Accuracy:  0.7428571428571429\n",
            "              precision    recall  f1-score   support\n",
            "\n",
            "          fe       0.75      0.85      0.80        72\n",
            "          hm       0.85      0.73      0.78        55\n",
            "          ij       0.63      0.96      0.76        67\n",
            "          mk       0.75      0.77      0.76        77\n",
            "          rg       0.84      0.54      0.66        79\n",
            "          rn       0.74      0.64      0.69        70\n",
            "\n",
            "    accuracy                           0.74       420\n",
            "   macro avg       0.76      0.75      0.74       420\n",
            "weighted avg       0.76      0.74      0.74       420\n",
            "\n"
          ]
        }
      ]
    },
    {
      "cell_type": "markdown",
      "source": [
        "##Doc2Vec"
      ],
      "metadata": {
        "id": "5NSlsupGQZEl"
      }
    },
    {
      "cell_type": "code",
      "source": [
        "X = data['sentence'].values"
      ],
      "metadata": {
        "id": "oFyB-c73JyXp"
      },
      "execution_count": null,
      "outputs": []
    },
    {
      "cell_type": "code",
      "source": [
        "Doc = pd.DataFrame()\n",
        "Doc['sentence'] = data['sentence'].values\n",
        "Doc['class_id'] = data['Category_target']\n",
        "Doc.head()"
      ],
      "metadata": {
        "id": "ezB7Kk_LQo-z",
        "colab": {
          "base_uri": "https://localhost:8080/",
          "height": 206
        },
        "outputId": "7de28c89-c660-4f49-e5af-58757ab37916"
      },
      "execution_count": null,
      "outputs": [
        {
          "output_type": "execute_result",
          "data": {
            "text/plain": [
              "                                            sentence  class_id\n",
              "0  ১ পৃথিবীতে ঢের দিন বেঁচে থাকে আমাদের আয়ু এখন ম...         0\n",
              "1  প্রান্তরের পারে তব তিমিরের খেয়া নীরবে যেতেছে দ...         0\n",
              "2  তোমার চোখের পরে তাহার মুখেরে ভালোবেসে এখানে এস...         0\n",
              "3  যৌবনের সুরাপাত্র গরল মদির ঢালো নি অধরে তব ধরা ...         0\n",
              "4  হাজার বছর ধরে আমি পথ হাঁটিতেছি পৃথিবীর পথে সিং...         0"
            ],
            "text/html": [
              "\n",
              "  <div id=\"df-fd8d610c-eeec-4938-bf1b-d5421dd93086\">\n",
              "    <div class=\"colab-df-container\">\n",
              "      <div>\n",
              "<style scoped>\n",
              "    .dataframe tbody tr th:only-of-type {\n",
              "        vertical-align: middle;\n",
              "    }\n",
              "\n",
              "    .dataframe tbody tr th {\n",
              "        vertical-align: top;\n",
              "    }\n",
              "\n",
              "    .dataframe thead th {\n",
              "        text-align: right;\n",
              "    }\n",
              "</style>\n",
              "<table border=\"1\" class=\"dataframe\">\n",
              "  <thead>\n",
              "    <tr style=\"text-align: right;\">\n",
              "      <th></th>\n",
              "      <th>sentence</th>\n",
              "      <th>class_id</th>\n",
              "    </tr>\n",
              "  </thead>\n",
              "  <tbody>\n",
              "    <tr>\n",
              "      <th>0</th>\n",
              "      <td>১ পৃথিবীতে ঢের দিন বেঁচে থাকে আমাদের আয়ু এখন ম...</td>\n",
              "      <td>0</td>\n",
              "    </tr>\n",
              "    <tr>\n",
              "      <th>1</th>\n",
              "      <td>প্রান্তরের পারে তব তিমিরের খেয়া নীরবে যেতেছে দ...</td>\n",
              "      <td>0</td>\n",
              "    </tr>\n",
              "    <tr>\n",
              "      <th>2</th>\n",
              "      <td>তোমার চোখের পরে তাহার মুখেরে ভালোবেসে এখানে এস...</td>\n",
              "      <td>0</td>\n",
              "    </tr>\n",
              "    <tr>\n",
              "      <th>3</th>\n",
              "      <td>যৌবনের সুরাপাত্র গরল মদির ঢালো নি অধরে তব ধরা ...</td>\n",
              "      <td>0</td>\n",
              "    </tr>\n",
              "    <tr>\n",
              "      <th>4</th>\n",
              "      <td>হাজার বছর ধরে আমি পথ হাঁটিতেছি পৃথিবীর পথে সিং...</td>\n",
              "      <td>0</td>\n",
              "    </tr>\n",
              "  </tbody>\n",
              "</table>\n",
              "</div>\n",
              "      <button class=\"colab-df-convert\" onclick=\"convertToInteractive('df-fd8d610c-eeec-4938-bf1b-d5421dd93086')\"\n",
              "              title=\"Convert this dataframe to an interactive table.\"\n",
              "              style=\"display:none;\">\n",
              "        \n",
              "  <svg xmlns=\"http://www.w3.org/2000/svg\" height=\"24px\"viewBox=\"0 0 24 24\"\n",
              "       width=\"24px\">\n",
              "    <path d=\"M0 0h24v24H0V0z\" fill=\"none\"/>\n",
              "    <path d=\"M18.56 5.44l.94 2.06.94-2.06 2.06-.94-2.06-.94-.94-2.06-.94 2.06-2.06.94zm-11 1L8.5 8.5l.94-2.06 2.06-.94-2.06-.94L8.5 2.5l-.94 2.06-2.06.94zm10 10l.94 2.06.94-2.06 2.06-.94-2.06-.94-.94-2.06-.94 2.06-2.06.94z\"/><path d=\"M17.41 7.96l-1.37-1.37c-.4-.4-.92-.59-1.43-.59-.52 0-1.04.2-1.43.59L10.3 9.45l-7.72 7.72c-.78.78-.78 2.05 0 2.83L4 21.41c.39.39.9.59 1.41.59.51 0 1.02-.2 1.41-.59l7.78-7.78 2.81-2.81c.8-.78.8-2.07 0-2.86zM5.41 20L4 18.59l7.72-7.72 1.47 1.35L5.41 20z\"/>\n",
              "  </svg>\n",
              "      </button>\n",
              "      \n",
              "  <style>\n",
              "    .colab-df-container {\n",
              "      display:flex;\n",
              "      flex-wrap:wrap;\n",
              "      gap: 12px;\n",
              "    }\n",
              "\n",
              "    .colab-df-convert {\n",
              "      background-color: #E8F0FE;\n",
              "      border: none;\n",
              "      border-radius: 50%;\n",
              "      cursor: pointer;\n",
              "      display: none;\n",
              "      fill: #1967D2;\n",
              "      height: 32px;\n",
              "      padding: 0 0 0 0;\n",
              "      width: 32px;\n",
              "    }\n",
              "\n",
              "    .colab-df-convert:hover {\n",
              "      background-color: #E2EBFA;\n",
              "      box-shadow: 0px 1px 2px rgba(60, 64, 67, 0.3), 0px 1px 3px 1px rgba(60, 64, 67, 0.15);\n",
              "      fill: #174EA6;\n",
              "    }\n",
              "\n",
              "    [theme=dark] .colab-df-convert {\n",
              "      background-color: #3B4455;\n",
              "      fill: #D2E3FC;\n",
              "    }\n",
              "\n",
              "    [theme=dark] .colab-df-convert:hover {\n",
              "      background-color: #434B5C;\n",
              "      box-shadow: 0px 1px 3px 1px rgba(0, 0, 0, 0.15);\n",
              "      filter: drop-shadow(0px 1px 2px rgba(0, 0, 0, 0.3));\n",
              "      fill: #FFFFFF;\n",
              "    }\n",
              "  </style>\n",
              "\n",
              "      <script>\n",
              "        const buttonEl =\n",
              "          document.querySelector('#df-fd8d610c-eeec-4938-bf1b-d5421dd93086 button.colab-df-convert');\n",
              "        buttonEl.style.display =\n",
              "          google.colab.kernel.accessAllowed ? 'block' : 'none';\n",
              "\n",
              "        async function convertToInteractive(key) {\n",
              "          const element = document.querySelector('#df-fd8d610c-eeec-4938-bf1b-d5421dd93086');\n",
              "          const dataTable =\n",
              "            await google.colab.kernel.invokeFunction('convertToInteractive',\n",
              "                                                     [key], {});\n",
              "          if (!dataTable) return;\n",
              "\n",
              "          const docLinkHtml = 'Like what you see? Visit the ' +\n",
              "            '<a target=\"_blank\" href=https://colab.research.google.com/notebooks/data_table.ipynb>data table notebook</a>'\n",
              "            + ' to learn more about interactive tables.';\n",
              "          element.innerHTML = '';\n",
              "          dataTable['output_type'] = 'display_data';\n",
              "          await google.colab.output.renderOutput(dataTable, element);\n",
              "          const docLink = document.createElement('div');\n",
              "          docLink.innerHTML = docLinkHtml;\n",
              "          element.appendChild(docLink);\n",
              "        }\n",
              "      </script>\n",
              "    </div>\n",
              "  </div>\n",
              "  "
            ]
          },
          "metadata": {},
          "execution_count": 16
        }
      ]
    },
    {
      "cell_type": "code",
      "source": [
        "from tqdm import tqdm\n",
        "tqdm.pandas(desc=\"progress-bar\")\n",
        "from gensim.models import Doc2Vec\n",
        "from sklearn import utils\n",
        "import gensim\n",
        "from gensim.models.doc2vec import TaggedDocument\n",
        "import re\n",
        "\n",
        "def label_sentences(corpus, label_type):\n",
        "    \"\"\"\n",
        "    Gensim's Doc2Vec implementation requires each document/paragraph to have a label associated with it.\n",
        "    We do this by using the TaggedDocument method. The format will be \"TRAIN_i\" or \"TEST_i\" where \"i\" is\n",
        "    a dummy index of the post.\n",
        "    \"\"\"\n",
        "    labeled = []\n",
        "\n",
        "\n",
        "    for i, v in enumerate(corpus):\n",
        "        label = label_type + '_' + str(i)\n",
        "        labeled.append(TaggedDocument(v.split(), [label]))\n",
        "\n",
        "    return labeled\n",
        "\n",
        "\n",
        "X_train, X_test, y_train, y_test = train_test_split(Doc.sentence, Doc.class_id, random_state=0, test_size=0.3)\n",
        "\n",
        "X_train = label_sentences(X_train, 'Train')\n",
        "X_test = label_sentences(X_test, 'Test')\n",
        "all_data = X_train + X_test"
      ],
      "metadata": {
        "id": "7R_XnGNMQuDL"
      },
      "execution_count": null,
      "outputs": []
    },
    {
      "cell_type": "code",
      "source": [
        "\n",
        "all_data[0:2]"
      ],
      "metadata": {
        "id": "fpFHu__WQytB",
        "colab": {
          "base_uri": "https://localhost:8080/"
        },
        "outputId": "11c75284-4914-4f43-c482-5cf65c7503c4"
      },
      "execution_count": null,
      "outputs": [
        {
          "output_type": "execute_result",
          "data": {
            "text/plain": [
              "[TaggedDocument(words=['ধর্মপদ', 'আজকের', 'বিষয়', 'আজও', 'যারা', 'জেগে', 'ওঠেনি', 'এই', 'শিশুর', 'সন্ত্রাসবাদী', 'হয়ে', 'ওঠার', 'সম্ভাবনা', 'শূন্য', 'আজও', 'যারা', 'জেগে', 'ওঠেনি', 'সমস্যা', 'তাদের', 'নিয়েই', 'যেভাবে', 'বাঁচার', 'কথা', 'সেভাবে', 'বাঁচেনা', 'মানুষ', 'কী', 'ভাবে', 'বাঁচার', 'কথা', 'সচেতন', 'হয়ে', 'ঘুমিয়ে', 'না', 'থেকে', 'জেগে', 'উঠে', 'কোন্', 'নদীর', 'পাড়ে', 'মৃতা', 'মায়ের', 'পাশে', 'দুধ', 'খেতে', 'না', 'পেরে', 'শিশু', 'কাঁদল', 'খবরটা', 'কেউ', 'খেয়াল', 'করল', 'কেউবা', 'করল', 'না', 'একদল', 'ছুটল', 'যারা', 'ছুটল', 'তারাই', 'জাগ্রত', 'সচেতন', 'সচেতন', 'ও', 'সিংহহৃদয়', 'সেই', 'প্রাচীনকাল', 'থেকেই', 'এরকম', 'সিংহহৃদয়ের', 'জন্য', 'প্রার্থনা', 'করা', 'হয়েছে', 'বারবার', 'প্রার্থনা', 'করা', 'হয়েছে', 'যারা', 'এখনও', 'জেগে', 'ওঠেনি', 'তারা', 'যেন', 'জেগে', 'ওঠে', 'আজ', 'অনুবাদ', 'টমাস', 'বাইরোম'], tags=['Train_0']),\n",
              " TaggedDocument(words=['মোটরে', 'যাইতে', 'যাইতে', 'শকুন্তলার', 'শয়নকক্ষের', 'দৃশ্যটাই', 'চোখের', 'সামনে', 'ভাসিতে', 'লাগিল', 'মনে', 'হইল', 'যেন', 'একটি', 'মর্মস্পশী', 'নাটকের', 'নিগূঢ়', 'দৃশ্যাভিনয়', 'প্রত্যক্ষ', 'করিলাম', 'শকুন্তলা', 'যদি', 'মূৰ্ছিত', 'হইয়া', 'না', 'পড়িতেন', 'এবং', 'চাঁদনী', 'আসিয়া', 'যদি', 'রাসভঙ্গ', 'না', 'করিত', '–', 'শকুন্তলা', 'হঠাৎ', 'মূৰ্ছিত', 'হইলেন', 'কেন', 'অবশ্য', 'এরূপ', 'অবস্থায়', 'যে', 'কোনও', 'মুহুর্তে', 'মুছাঁ', 'যাওয়া', 'বিচিত্র', 'নয়\\u200c', 'তবু', 'শোকের', 'প্রাবল্যই', 'কি', 'তাহার', 'একমাত্র', 'কারণ', 'ব্যোমকেশের', 'দিকে', 'চাহিয়া', 'দেখিলাম', 'সে', 'চিন্তার', 'অতলে', 'তলাইয়া', 'গিয়াছে', 'জিজ্ঞাসা', 'করিলাম', 'শকুন্তলার', 'মূছাঁর', 'কথা', 'ভাবিছ', 'নাকি', 'সে', 'সচেতন', 'হইয়া', 'বলিল\\u200c', 'মুর্ছা', 'না', '–', 'আমি', 'ভাবছিলাম', 'ডাক', 'বাক্সর', 'কথা', 'অবাক', 'হইয়া', 'বলিলাম\\u200c', 'ডাক', 'বোক্সর', 'কথা', 'ভাবছিলে', 'সে', 'বলিল\\u200c', 'হ্যাঁ\\u200c', 'দীপনারায়ণের', 'বাড়ির', 'কোণে', 'যে', 'ডাক', 'বাক্স', 'আছে', 'তারই', 'কথা', 'ভারি', 'লাগসৈ', 'জায়গায়', 'সেটা', 'আছে', 'দেখলে', 'মনে', 'হয়', 'লাল', 'কুতা', 'পরা', 'গোলগাল', 'একটি', 'সেপাই', 'রাস্তার', 'কোণে', 'দাঁড়িয়ে', 'পাহারা', 'দিচ্ছে', 'কিন্তু', 'আসলে', 'তা', 'নয়', 'আসলে', 'তবে', 'কি', 'আসলে', 'শ্রীরাধিকার', 'দূতী', 'বুঝলাম', 'না', 'ব্যাসকুট', 'ছেড়ে', 'সিধে', 'কথা', 'বল', 'ব্যোমকেশ', 'কিন্তু', 'সিধা', 'কথা', 'বলিল', 'না\\u200c', 'মুখে', 'একটা', 'একপেশে', 'হাসি', 'আনিয়া', 'কতকটা', 'নিজ', 'মনেই', 'বলিল', 'অভিসারের', 'আইডিয়াটি', 'ভারি', 'মিষ্টি', 'অবশ্য', 'যদি', 'অভিসারিকা', 'পরস্ত্রী', 'হয়', 'নিজের', 'স্ত্রী', 'অভিসার', 'করলে', 'বোধহয়', 'তত', 'মিষ্টি', 'লাগে', 'না', 'অর্থাৎ', 'অর্থাৎ', 'রতিসুখসারে', 'গতমভিসারে', 'মদনমনোহরবেশম', 'কি', 'আবোল', 'তাবোল', 'বকছ', 'ব্যোমকেশ', 'গম্ভীর', 'মুখে', 'বলিল\\u200c', 'আবোল', 'তাবোল', 'নয়\\u200c', 'এটা', 'গীতগোবিন্দ', 'যদি', 'আবোল', 'তাবোল', 'শুনতে', 'চাও', 'শোনাতে', 'পারি\\u200c', 'ছন্দ', 'একই', 'বাবুরাম', 'সাপুড়ে', 'কোথা', 'যাস', 'বাপুরে', '—', 'পাণ্ডেজি', 'মোটর', 'চালাইতে', 'চালাইতে', 'হাসিয়া', 'উঠিলেন', 'আমি', 'হতাশ', 'হইয়া', 'আপাতত', 'আমার', 'কৌতুহল', 'সম্বরণ', 'করিলাম', 'পাণ্ডেজির', 'বাসায়', 'পৌঁছিয়া', 'দেখা', 'গেল', 'চা', 'প্রস্তুত', 'তার', 'সঙ্গে', 'গরম', 'গরম', 'বেগুনি\\u200c', 'পকৌড়ি\\u200c', 'ডালের', 'ঝালবড়া', 'ব্যোমকেশ', 'দ্বিরুক্তি', 'না', 'করিয়া', 'বসিয়া', 'গেল', 'আমরাও', 'যোগ', 'দিলাম', 'বেশ', 'খানিকটা', 'রসদ', 'আত্মসাৎ', 'করিবার', 'পর', 'ব্যোমকেশ', 'তৃপ্তস্বরে', 'বলিল\\u200c', 'এতক্ষণ', 'বুঝতে', 'পারিনি\\u200c', 'আমার', 'অন্তরাত্মা', 'এই', 'জিনিসগুলির', 'পথ', 'চেয়ে', 'ছিল', 'পাণ্ডেজি', 'হাসিয়া', 'বলিলেন\\u200c', 'এখন', 'তো', 'পথ', 'চাওয়া', 'শেষ', 'হল\\u200c', 'এবার', 'বলুন', 'কি', 'দেখলেন', 'শুনলেন', 'ব্যোমকেশ', 'চায়ের', 'পেয়ালায়', 'লম্বা', 'একটি', 'চুমুক', 'দিয়া', 'সযত্নে', 'পেয়ালা', 'নামাইয়া', 'রাখিল\\u200c', 'গড়গড়ার', 'নলে', 'কয়েকটা', 'বুনিয়াদি', 'টান', 'দিল\\u200c', 'তারপর', 'চিন্তা', 'মন্থর', 'কণ্ঠে', 'বলিল\\u200c', 'দেখলাম', 'শুনলাম', 'অনেক', 'কিছু\\u200c', 'কিন্তু', 'এখনও', 'শেষ', 'দেখা', 'যাচ্ছে', 'না', 'পাণ্ডেজি', 'বলিলেন\\u200c', 'তবু', 'ব্যোমকেশ', 'বলিল\\u200c', 'দুটো', 'মোটিভ', 'পাওয়া', 'যাচ্ছে', 'এক', 'টাকা\\u200c', 'দুই', '—', 'ম্মরগরল', 'কোনদিকের', 'পাল্লা', 'ভারী', 'এখনও', 'বুঝতে', 'পারছি', 'না', 'হতে', 'পারে\\u200c', 'দুটো', 'মোটিভ', 'জড়াজড়ি', 'হয়ে', 'গেছে', 'আমি', 'বলিলাম\\u200c', 'মোটিভ', 'যেমনই', 'হোক\\u200c', 'লোকটা', 'কে', 'ব্যোমকেশ', 'একটু', 'অধীরভাবে', 'বলিল\\u200c', 'তা', 'কি', 'করে', 'বলব', 'যে', 'ব্যক্তি', 'ওষুধের', 'সঙ্গে', 'বিষ', 'মিশিয়েছিল', 'সে', 'ভাড়াটে', 'লোক', 'হতে', 'পারে', 'যে', 'তাকে', 'নিয়োগ', 'করেছিল', 'তাকেই', 'আমরা', 'খুঁজছি', 'পাণ্ডেজি', 'বলিলেন\\u200c', 'আমরা', 'যাদের', 'চিনি', 'তাদের', 'মধ্যে', 'এমন', 'কে', 'আছে', 'যে', 'নিয়োগ', 'করতে', 'পারে', 'এক', 'আছে', 'দেবনারায়ণ', 'কিন্তু', 'সে', 'কি', '–', 'ব্যোমকেশ', 'বলিল\\u200c', 'বেশ\\u200c', 'প্রথমে', 'দেবনারায়ণকে', 'ধরুন', 'দেবারায়ণকে', 'দেখলে', 'মনে', 'হয়', 'নিরেট', 'আহাম্মক', 'কিন্তু', 'এটা', 'তার', 'ছদ্মবেশ', 'হতে', 'পারে', 'সেই', 'হয়তো', 'লোক', 'লাগিয়ে', 'খুড়োকে', 'মেরেছে', 'তার', 'আজ্ঞাবহ', 'মোসাহেবের', 'অভাব', 'নেই\\u200c', 'লীলাধর', 'বংশী', 'বা', 'বেণীপ্রসাদ', 'যে', 'কেউ', 'পুরস্কারের', 'আশ্বাস', 'পেলে', 'খুন', 'করবে', 'এখানে', 'মোটিভ', 'হল\\u200c', 'সম্পত্তির', 'একাধিপত্য', 'আমি', 'বলিলাম\\u200c', 'কিন্তু', '—', 'ব্যোমকেশ', 'হাত', 'তুলিয়া', 'আমাকে', 'নিবারণ', 'করিল', '–', 'তারপর', 'ধরা', 'যাক', 'চাঁদনী', 'চাঁদনী', 'হ্যাঁ\\u200c', 'চাঁদনী', 'শকুন্তলার', 'প্রতি', 'তার', 'এত', 'দরদ', 'স্বাভাবিক', 'মনে', 'হয়', 'না\\u200c', 'যেন', 'একটু', 'বাড়াবাড়ি', 'সে', 'হয়তো', 'মনে', 'মনে', 'তাঁকে', 'হিংসে', 'করে\\u200c', 'তাঁর', 'প্রাধান্য', 'খর্ব', 'করতে', 'চায়', 'দীপনারায়ণের', 'মৃত্যুর', 'পর', 'শকুন্তলা', 'আর', 'সংসারের', 'কত্রী', 'থাকবেন', 'না\\u200c', 'কত্রী', 'হবে', 'চাঁদনী', 'দেবনারায়ণ', 'যদি', 'সত্যি', 'সত্যিই', 'ন্যালা', 'ক্যাবলা', 'হয়\\u200c', 'সে', 'চাঁদনীর', 'মুঠোর', 'মধ্যে', 'থাকবে\\u200c', 'চাঁদনী', 'হবে', 'বিপুল', 'সম্পত্তির', 'একচ্ছত্র', 'অধীশ্বরী', '–', 'কিন্তু', '–', 'ব্যোমকেশ', 'আবার', 'হাত', 'তুলিয়া', 'আমাকে', 'নিবৃত্ত', 'করিল', 'তারপর', 'ধরুন', 'ম্যানেজার', 'গঙ্গাধর', 'বংশী', 'ডাক্তার', 'পালিতের', 'মতে', 'ইনি', 'গভীর', 'জলের', 'মাছ', 'সেটা', 'এমন', 'কিছু', 'আশ্চর্য', 'নয়\\u200c', 'গভীর', 'জলের', 'মাছ', 'না', 'হলে', 'এতবড়', 'স্টেটের', 'ম্যানেজার', 'হওয়া', 'যায়', 'না', 'কিন্তু', 'উনি', 'যদি', 'কুমীর', 'হন', 'তবেই', 'ভাবনার', 'কথা', 'ভেবে', 'দেখুন', 'দীপনারায়ণ', 'সিং', 'বুদ্ধিমান', 'লোক', 'ছিলেন\\u200c', 'বিষয়', 'সম্পত্তির', 'ওপর', 'নজর', 'রাখতেন', 'তিনি', 'বেঁচে', 'থাকতে', 'পুকুর', 'চুরি', 'সম্ভব', 'নয়\\u200c', 'অল্পসল্প', 'চুরি', 'হয়তো', 'চলে', 'কিন্তু', 'তিনি', 'যদি', 'মারা', 'যান', 'তাহলে', 'সমস্ত', 'সম্পত্তি', 'অশাবে', 'দেবানারায়ণকে', 'তখন', 'দুহাতে', 'চুরি', 'করা', 'চলবে', 'সুতরাং', 'ম্যানেজার', 'গঙ্গাধর', 'বংশীরও', 'মোটিভ', 'স্বীকার', 'করতে', 'হবে', 'ব্যোমকেশ', 'কিছুক্ষণ', 'গড়গড়া', 'টানিল\\u200c', 'আমরা', 'নীরব', 'রহিলাম', 'তারপর', 'সে', 'গড়গড়ার', 'নল', 'আমার', 'হাতে', 'দিয়া', 'বলিল', 'সর্বশেষে', 'ধরুন', '—', 'শকুন্তলা', 'দেবী', 'এইটুকু', 'বলিয়া', 'সে', 'চুপ', 'করিল', 'আমরা', 'প্রতীক্ষ্ণ', 'করিয়া', 'রহিলাম', 'সে', 'একবার', 'নড়িয়া', 'চড়িয়া', 'বসিল', 'তারপর', 'ধীরে', 'ধীরে', 'বলিতে', 'আরম্ভ', 'করিল', 'কোনও', 'মহিলার', 'চরিত্র', 'নিয়ে', 'আলোচনা', 'করা', 'ভদ্রলোকের', 'কাজ', 'নয়\\u200c', 'কিন্তু', 'যেখানে', 'একটা', 'খুন', 'হয়ে', 'গেছে\\u200c', 'সেখানে', 'আলোচনা', 'না', 'করেও', 'উপায়', 'নেই', 'শকুন্তলা', 'দেবী', 'তিন', 'মাস', 'অন্তঃস্বত্ত্বা', 'অথচ', 'তিন', 'মাস', 'আগে', 'দীপনারায়ণ', 'সিং', 'শয্যাগত', 'ছিলেন\\u200c', 'সে', 'সময়ে', 'তাঁর', 'দীর্ঘ', 'রোগের', 'একটা', 'ক্রাইসিস', 'যাচ্ছিল', 'শকুন্তলা', 'আজ', 'আমাদের', 'বললেন\\u200c', 'কাল', 'রাত্রে', 'তিনি', 'স্বামীকে', 'সন্তান', 'সম্ভাবনার', 'কথা', 'বলেছিলেন\\u200c', 'শুনে', 'দীপনারায়ণ', 'সিং', 'আনন্দে', 'আত্মহারা', 'হয়ে', 'পড়েছিলেন', 'কথাটা', 'বোধহয়', 'সত্যি', 'নয়', 'প্রশ্ন', 'করিলাম\\u200c', 'সত্যি', 'নয়', 'কেন', 'ব্যোমকেশ', 'বলিল\\u200c', 'দীপনারায়ণ', 'সিং', 'যদি', 'আনন্দে', 'আত্মহারা', 'হয়েই', 'পড়েছিলেন', 'তবে', 'এই', 'মহা', 'আনন্দের', 'সংবাদ', 'কাউকে', 'দিলেন', 'না', 'কেন', 'রাত্রে', 'না', 'হোক\\u200c', 'সকালবেলা', 'ডাক্তার', 'পালিতকে', 'তো', 'বলতে', 'পারতেন\\u200c', 'শুভসংবাদ', 'পাকা', 'কিনা', 'জািনবার', 'জন্য', 'মিস', 'মান্নাকে', 'ডাকতে', 'পারতেন', 'শকুন্তলা', 'স্বামীকে', 'বলেননি\\u200c', 'কারণ', 'স্বামীকে', 'বলবার', 'মত', 'কথা', 'নয়', 'দীপনারায়ণ', 'সিং', 'জানতে', 'পারলে', 'শকুন্তলাকে', 'খুন', 'করতেন\\u200c', 'নচেৎ', 'বাড়ি', 'থেকে', 'দূর', 'করে', 'দিতেন', 'তাই', 'জানাজানি', 'হবার', 'আগেই', 'দীপনারায়ণ', 'সিংকে', 'সরানো', 'দরকার', 'হয়েছিল', 'বলিলাম\\u200c', 'কিন্তু', 'ধরো\\u200c', 'ডাক্তার', 'পালিত', 'যদি', 'ভুল', 'করে', 'থাকেন', 'ব্যোমকেশ', 'শুষ্ক', 'স্বরে', 'বলিল\\u200c', 'ডাক্তার', 'পালিত', 'এবং', 'মিস', 'মান্না', 'দু', 'জনেই', 'যদি', 'ভুল', 'করে', 'থাকেন\\u200c', 'যদি', 'শকুন্তলা', 'নিষ্কলঙ্ক', 'হন\\u200c', 'তাহলে', 'দীপনারায়ণকে', 'খুন', 'করার', 'তাঁর', 'কোনও', 'মোটিভ', 'নেই', 'কিন্তু', 'ডাক্তার', 'পালিত', 'বা', 'মিস', 'মান্না', 'দায়িত্বহীন', 'ছেলেমানুষ', 'নয়\\u200c', 'তাঁরা', 'ভুল', 'করেননি', 'ইচ্ছে', 'করেও', 'মিছে', 'কথাও', 'বলেননি\\u200c', 'যে', 'মিছে', 'কথা', 'সঙ্গে', 'সঙ্গে', 'ধরা', 'পড়ে', 'যাবে', 'তেমন', 'মিথ্যে', 'কথা', 'বলবার', 'লোক', 'ওঁরা', 'নন', 'বলিলাম\\u200c', 'আমি', 'ওকথা', 'বলছি', 'না', 'শকুন্তলা', 'যে', 'অন্তঃস্বত্ত্বা', 'সে', 'বিষয়ে', 'সন্দেহ', 'নেই', 'কিন্তু', 'দীপনারায়ণ', 'যে', '–', 'তুমি', 'যা', 'বলতে', 'চাও', 'আমি', 'বুঝেছি', 'কিন্তু', 'সে', 'দিকেও', 'বাড়িসুদ্ধ', 'লোক', 'সাক্ষী', 'আছে\\u200c', 'ডাক্তার', 'পালিত', 'মিছে', 'কথা', 'বলে', 'পোর', 'পাবেন', 'না', 'ব্যোমকেশ', 'আমার', 'হাত', 'হইতে', 'গড়গড়ার', 'নল', 'লইয়', 'আবার', 'টানিতে', 'লাগিল', 'আমি', 'বলিলাম\\u200c', 'বেশ\\u200c', 'তর্কের', 'খাতিরে', 'মেনে', 'নেওয়া', 'যাক', 'যে', 'শকুন্তলার', 'একটি', 'দুষ্মন্ত', 'আছে', 'কিন্তু', 'সে', 'লোকটা', 'কে', 'ব্যোমকেশ', 'একটু', 'চকিতভাবে', 'আমার', 'পানে', 'চাহিল\\u200c', 'অর্ধব্যক্ত', 'স্বরে', 'বলিল\\u200c', 'শকুন্তলার', 'দুষ্মন্ত', 'বেশ', 'বলেছ', '—', 'ওই', 'দুষ্মন্তকেই', 'আমরা', 'খুঁজছি', 'ডাক্তার', 'পালিতের', 'ব্যাগে', 'যে', 'ওষুধের', 'বদলে', 'বিষ', 'রেখে', 'গিয়েছিল', 'সে', 'ওই', 'দুষ্মন্ত', 'ছাড়া', 'আর', 'কে', 'হতে', 'পারে', 'দুষ্মন্তটি', 'তবে', 'কে', 'সেটা', 'শকুন্তলার', 'রুচির', 'ওপর', 'নির্ভর', 'করে', 'তিনি', 'মার্জিত', 'রুচির', 'আধুনিক', 'মহিলা\\u200c', 'সুতরাং', 'দুষ্মন্তও', 'আধুনিক', 'শিক্ষিত', 'লোক', 'হওয়া', 'সম্ভব', 'নর্মদাশঙ্কর', 'বা', 'তাদের', 'দলের', 'কেউ', 'হতে', 'পারে', 'আবার', 'এমন', 'লোক', 'হতে', 'পারে', 'যার', 'প্রকাশ্যভাবে', 'ও', 'বাড়িতে', 'যাতায়াত', 'নেই', 'পাণ্ডেজি', 'কিছুক্ষণ', 'গালে', 'হাত', 'দিয়া', 'চিন্তা', 'করিলেন\\u200c', 'বলিলেন\\u200c', 'কিম্বা', 'মনে', 'করুন\\u200c', 'যদি', 'এমন', 'কেউ', 'হয়', 'যে', 'শকুন্তলাকে', 'বিপদে', 'ফেলে', 'সরে', 'পড়েছে', 'ব্যোমকেশ', 'বলিল\\u200c', 'দুষ্মন্তদের', 'পক্ষে', 'সেটা', 'খুবই', 'স্বাভাবিক', 'তখন', 'শকুন্তলাকে', 'অন্য', 'চেষ্টা', 'করতে', 'হবে\\u200c', 'অর্থাৎ', 'অন্য', 'সহকারী', 'যোগাড়', 'করতে', 'হবে', 'সে', 'রকম', 'সহকারী', 'তিনি', 'পাবেন', 'কোথায়', 'কেন', 'সহকারীর', 'অভাব', 'কিসের', 'স্বয়ং', 'গঙ্গাধর', 'বংশী', 'রয়েছেন\\u200c', 'তস্য', 'পুত্ব', 'লীলাধর', 'আছে\\u200c', 'বেণীপ্রসাদ', 'আছে\\u200c', 'উপযুক্ত', 'দক্ষিণা', 'পেলে', 'সকলেই', 'রাজী', 'হবে', 'এমন', 'কি', 'ডাক্তার', 'পালিত', 'আর', 'মিস', 'মান্নাকেও', 'বাদ', 'দেওয়া', 'যায়', 'না', 'ঠিক', 'বাছতে', 'গাঁ', 'উজোড়', 'আমরা', 'নিবাক', 'হইয়া', 'রহিলাম', 'কিছুক্ষণ', 'ব্যোমকেশের', 'গড়গড়ার', 'আওয়াজ', 'ছাড়া', 'আর', 'কোনও', 'শব্দ', 'নাই', 'তারপর', 'সে', 'সম্পূর্ণ', 'অপ্রাসঙ্গিকভাবে', 'বলিল\\u200c', 'দেয়ালে', 'আঁকা', 'ছবিটার', 'কথা', 'বার', 'বার', 'মনে', 'পড়ছে', 'মনে', 'হচ্ছে\\u200c', 'ওটা', 'শুধু', 'ছবি', 'নয়\\u200c', 'ওর', 'মধ্যে', 'শিল্পীর', 'অন্তরতম', 'কথাটি', 'লুকিয়ে', 'আছে', 'ছবিটি', 'দিনের', 'আলোয়', 'আর', 'একবার', 'ভাল', 'করে', 'দেখতে', 'হবে', 'ভৃত্য', 'আসিয়া', 'জানাইল\\u200c', 'ইন্সপেক্টর', 'চৌধুরী', 'আসিয়াছেন'], tags=['Train_1'])]"
            ]
          },
          "metadata": {},
          "execution_count": 18
        }
      ]
    },
    {
      "cell_type": "code",
      "source": [
        "model_dbow = Doc2Vec(dm=0, vector_size=300, negative=5, min_count=1, alpha=0.065, min_alpha=0.065)\n",
        "model_dbow.build_vocab([x for x in tqdm(all_data)])\n",
        "\n",
        "for epoch in range(30):\n",
        "    model_dbow.train(utils.shuffle([x for x in tqdm(all_data)]), total_examples=len(all_data), epochs=1)\n",
        "    model_dbow.alpha -= 0.002\n",
        "    model_dbow.min_alpha = model_dbow.alpha"
      ],
      "metadata": {
        "id": "bRGwrliwQ2f9",
        "colab": {
          "base_uri": "https://localhost:8080/"
        },
        "outputId": "1aea0575-6316-4ba8-e673-90b020850e50"
      },
      "execution_count": null,
      "outputs": [
        {
          "output_type": "stream",
          "name": "stderr",
          "text": [
            "100%|██████████| 27426/27426 [00:00<00:00, 1433754.38it/s]\n",
            "100%|██████████| 27426/27426 [00:00<00:00, 1381976.76it/s]\n",
            "100%|██████████| 27426/27426 [00:00<00:00, 1659376.85it/s]\n",
            "100%|██████████| 27426/27426 [00:00<00:00, 1414467.47it/s]\n",
            "100%|██████████| 27426/27426 [00:00<00:00, 1595995.64it/s]\n",
            "100%|██████████| 27426/27426 [00:00<00:00, 1215466.67it/s]\n",
            "100%|██████████| 27426/27426 [00:00<00:00, 1580839.96it/s]\n",
            "100%|██████████| 27426/27426 [00:00<00:00, 1319912.12it/s]\n",
            "100%|██████████| 27426/27426 [00:00<00:00, 1476049.70it/s]\n",
            "100%|██████████| 27426/27426 [00:00<00:00, 1299161.79it/s]\n",
            "100%|██████████| 27426/27426 [00:00<00:00, 1054361.80it/s]\n",
            "100%|██████████| 27426/27426 [00:00<00:00, 1505233.85it/s]\n",
            "100%|██████████| 27426/27426 [00:00<00:00, 1432682.98it/s]\n",
            "100%|██████████| 27426/27426 [00:00<00:00, 1367129.16it/s]\n",
            "100%|██████████| 27426/27426 [00:00<00:00, 1644808.63it/s]\n",
            "100%|██████████| 27426/27426 [00:00<00:00, 1065880.13it/s]\n",
            "100%|██████████| 27426/27426 [00:00<00:00, 1282647.76it/s]\n",
            "100%|██████████| 27426/27426 [00:00<00:00, 1354827.47it/s]\n",
            "100%|██████████| 27426/27426 [00:00<00:00, 1464287.75it/s]\n",
            "100%|██████████| 27426/27426 [00:00<00:00, 1324044.45it/s]\n",
            "100%|██████████| 27426/27426 [00:00<00:00, 1379937.64it/s]\n",
            "100%|██████████| 27426/27426 [00:00<00:00, 1632715.66it/s]\n",
            "100%|██████████| 27426/27426 [00:00<00:00, 1458421.32it/s]\n",
            "100%|██████████| 27426/27426 [00:00<00:00, 1399819.68it/s]\n",
            "100%|██████████| 27426/27426 [00:00<00:00, 1229129.29it/s]\n",
            "100%|██████████| 27426/27426 [00:00<00:00, 1077622.62it/s]\n",
            "100%|██████████| 27426/27426 [00:00<00:00, 1498918.24it/s]\n",
            "100%|██████████| 27426/27426 [00:00<00:00, 1677134.55it/s]\n",
            "100%|██████████| 27426/27426 [00:00<00:00, 1403543.01it/s]\n",
            "100%|██████████| 27426/27426 [00:00<00:00, 970218.46it/s]\n",
            "100%|██████████| 27426/27426 [00:00<00:00, 1413754.73it/s]\n"
          ]
        }
      ]
    },
    {
      "cell_type": "code",
      "source": [
        "import numpy as np\n",
        "def get_vectors(model, corpus_size, vectors_size, vectors_type):\n",
        "    \"\"\"\n",
        "    Get vectors from trained doc2vec model\n",
        "    :param doc2vec_model: Trained Doc2Vec model\n",
        "    :param corpus_size: Size of the data\n",
        "    :param vectors_size: Size of the embedding vectors\n",
        "    :param vectors_type: Training or Testing vectors\n",
        "    :return: list of vectors\n",
        "    \"\"\"\n",
        "    vectors = np.zeros((corpus_size, vectors_size))\n",
        "    for i in range(0, corpus_size):\n",
        "        prefix = vectors_type + '_' + str(i)\n",
        "        vectors[i] = model.docvecs[prefix]\n",
        "    return vectors\n",
        "\n",
        "train_vectors_dbow = get_vectors(model_dbow, len(X_train), 300, 'Train')\n",
        "test_vectors_dbow = get_vectors(model_dbow, len(X_test), 300, 'Test')"
      ],
      "metadata": {
        "id": "kQGv8PsaQ7EG"
      },
      "execution_count": null,
      "outputs": []
    },
    {
      "cell_type": "code",
      "source": [
        "#SVM\n",
        "\n",
        "from sklearn.svm import SVC\n",
        "model = SVC()\n",
        "\n",
        "model= model.fit(train_vectors_dbow, y_train)\n",
        "model_prediction= model.predict(test_vectors_dbow)\n",
        "print('accuracy %s' % accuracy_score(model_prediction, y_test))\n",
        "print(classification_report(y_test, model_prediction))"
      ],
      "metadata": {
        "colab": {
          "base_uri": "https://localhost:8080/"
        },
        "id": "vTdCgv7kvDzz",
        "outputId": "5d906a6a-b91d-4a9e-e9b8-1202aaba51b0"
      },
      "execution_count": null,
      "outputs": [
        {
          "output_type": "stream",
          "name": "stdout",
          "text": [
            "accuracy 0.9953816237238697\n",
            "              precision    recall  f1-score   support\n",
            "\n",
            "           0       0.98      0.94      0.96        69\n",
            "           1       0.99      1.00      0.99       132\n",
            "           2       1.00      1.00      1.00       895\n",
            "           3       1.00      1.00      1.00       315\n",
            "           4       1.00      1.00      1.00       596\n",
            "           5       0.98      1.00      0.99       405\n",
            "           6       1.00      0.94      0.97       109\n",
            "           7       1.00      1.00      1.00       590\n",
            "           8       1.00      1.00      1.00      1550\n",
            "           9       1.00      1.00      1.00       590\n",
            "          10       1.00      1.00      1.00       534\n",
            "          11       1.00      1.00      1.00       213\n",
            "          12       0.99      0.99      0.99       263\n",
            "          13       0.99      0.97      0.98       141\n",
            "          14       0.92      0.96      0.94       122\n",
            "          15       1.00      1.00      1.00       267\n",
            "          16       1.00      0.98      0.99       156\n",
            "          17       1.00      1.00      1.00      1281\n",
            "\n",
            "    accuracy                           1.00      8228\n",
            "   macro avg       0.99      0.99      0.99      8228\n",
            "weighted avg       1.00      1.00      1.00      8228\n",
            "\n"
          ]
        }
      ]
    },
    {
      "cell_type": "code",
      "source": [
        "# SVM Creating  a confusion matrix,which compares the y_test and y_pred\n",
        "\n",
        "from sklearn.metrics import confusion_matrix\n",
        "\n",
        "cm = confusion_matrix(y_test, model_prediction)\n",
        "\n",
        "#Normalize\n",
        "cmn = cm.astype('float') / cm.sum(axis=1)[:, np.newaxis]\n",
        "\n",
        "# Creating a dataframe for a array-formatted Confusion matrix,so it will be easy for plotting.\n",
        "cm_df = pd.DataFrame(cmn,\n",
        "                     index = ['1', '2', '3', '4', '5', '6', '7','8', '9', '10', '11', '12', '13', '14', '15', '16', '17', '18'],\n",
        "\n",
        "                     columns = ['1', '2', '3', '4', '5', '6', '7','8', '9', '10', '11', '12', '13', '14', '15', '16', '17', '18'])\n",
        "\n",
        "#Plotting the confusion matrix\n",
        "plt.figure(figsize=(10,8))\n",
        "sns.heatmap(cm_df, annot=True, fmt= '.2f', cmap='Pastel1_r')   #(cf_matrix/np.sum(cf_matrix), annot=True,\n",
        "            #fmt='.2%', cmap='Blues')\n",
        "plt.title('Confusion Matrix')\n",
        "plt.ylabel('Actal Values')\n",
        "plt.xlabel('Predicted Values')\n",
        "plt.show()"
      ],
      "metadata": {
        "colab": {
          "base_uri": "https://localhost:8080/",
          "height": 513
        },
        "id": "jvBB8agkvYqV",
        "outputId": "d4d168fd-0eae-466a-e885-c928f3159b4d"
      },
      "execution_count": null,
      "outputs": [
        {
          "output_type": "display_data",
          "data": {
            "text/plain": [
              "<Figure size 720x576 with 2 Axes>"
            ],
            "image/png": "[encoded data removed]"
          },
          "metadata": {
            "needs_background": "light"
          }
        }
      ]
    },
    {
      "cell_type": "code",
      "source": [
        "\n",
        "#Logistic Regression\n",
        "model = LogisticRegression(n_jobs=1, C=1e5)\n",
        "model = model.fit(train_vectors_dbow, y_train)\n",
        "model_prediction = model.predict(test_vectors_dbow)\n",
        "print('accuracy %s' % accuracy_score(model_prediction, y_test))\n",
        "print(classification_report(y_test, model_prediction))"
      ],
      "metadata": {
        "id": "5a97CY7eQpBs",
        "colab": {
          "base_uri": "https://localhost:8080/"
        },
        "outputId": "a8a4ad43-3fef-4b87-c168-70fae56387d7"
      },
      "execution_count": null,
      "outputs": [
        {
          "output_type": "stream",
          "name": "stdout",
          "text": [
            "accuracy 0.9914924647544968\n",
            "              precision    recall  f1-score   support\n",
            "\n",
            "           0       0.96      0.96      0.96        69\n",
            "           1       0.98      0.99      0.99       132\n",
            "           2       1.00      1.00      1.00       895\n",
            "           3       1.00      0.99      1.00       315\n",
            "           4       1.00      1.00      1.00       596\n",
            "           5       0.99      0.99      0.99       405\n",
            "           6       0.98      0.95      0.97       109\n",
            "           7       1.00      1.00      1.00       590\n",
            "           8       0.99      0.99      0.99      1550\n",
            "           9       1.00      0.99      1.00       590\n",
            "          10       1.00      0.99      1.00       534\n",
            "          11       1.00      1.00      1.00       213\n",
            "          12       0.95      0.97      0.96       263\n",
            "          13       0.95      0.96      0.96       141\n",
            "          14       0.91      0.90      0.91       122\n",
            "          15       0.99      1.00      0.99       267\n",
            "          16       0.99      0.99      0.99       156\n",
            "          17       0.99      1.00      1.00      1281\n",
            "\n",
            "    accuracy                           0.99      8228\n",
            "   macro avg       0.98      0.98      0.98      8228\n",
            "weighted avg       0.99      0.99      0.99      8228\n",
            "\n"
          ]
        }
      ]
    },
    {
      "cell_type": "code",
      "source": [
        "# LR Creating  a confusion matrix,which compares the y_test and y_pred\n",
        "\n",
        "from sklearn.metrics import confusion_matrix\n",
        "\n",
        "cm = confusion_matrix(y_test, model_prediction)\n",
        "\n",
        "#Normalize\n",
        "cmn = cm.astype('float') / cm.sum(axis=1)[:, np.newaxis]\n",
        "\n",
        "# Creating a dataframe for a array-formatted Confusion matrix,so it will be easy for plotting.\n",
        "cm_df = pd.DataFrame(cmn,\n",
        "                     index = ['1', '2', '3', '4', '5', '6', '7','8', '9', '10', '11', '12', '13', '14', '15', '16', '17', '18'],\n",
        "\n",
        "                     columns = ['1', '2', '3', '4', '5', '6', '7','8', '9', '10', '11', '12', '13', '14', '15', '16', '17', '18'])\n",
        "\n",
        "#Plotting the confusion matrix\n",
        "plt.figure(figsize=(10,8))\n",
        "sns.heatmap(cm_df, annot=True, fmt= '.2f', cmap='Pastel1_r')   #(cf_matrix/np.sum(cf_matrix), annot=True,\n",
        "            #fmt='.2%', cmap='Blues')\n",
        "plt.title('Confusion Matrix')\n",
        "plt.ylabel('Actal Values')\n",
        "plt.xlabel('Predicted Values')\n",
        "plt.show()"
      ],
      "metadata": {
        "id": "WFxIUVg1QpFX",
        "colab": {
          "base_uri": "https://localhost:8080/",
          "height": 513
        },
        "outputId": "0c2e92a2-5427-44a2-ce83-0e08af5e7c1e"
      },
      "execution_count": null,
      "outputs": [
        {
          "output_type": "display_data",
          "data": {
            "text/plain": [
              "<Figure size 720x576 with 2 Axes>"
            ],
            "image/png": "[encoded data removed]"
          },
          "metadata": {
            "needs_background": "light"
          }
        }
      ]
    },
    {
      "cell_type": "code",
      "source": [
        "\n",
        "model = GaussianNB()\n",
        "model = model.fit(train_vectors_dbow, y_train)\n",
        "model_prediction = model.predict(test_vectors_dbow)\n",
        "print('accuracy %s' % accuracy_score(model_prediction, y_test))\n",
        "print(classification_report(y_test, model_prediction))"
      ],
      "metadata": {
        "id": "yU6QKJTbQpID",
        "colab": {
          "base_uri": "https://localhost:8080/"
        },
        "outputId": "b923ed89-9091-4852-bea0-d241b73ec913"
      },
      "execution_count": null,
      "outputs": [
        {
          "output_type": "stream",
          "name": "stdout",
          "text": [
            "accuracy 0.9720466699076324\n",
            "              precision    recall  f1-score   support\n",
            "\n",
            "           0       0.94      0.97      0.96        69\n",
            "           1       0.98      0.93      0.95       132\n",
            "           2       0.99      0.98      0.99       895\n",
            "           3       0.93      1.00      0.96       315\n",
            "           4       1.00      0.99      0.99       596\n",
            "           5       0.89      1.00      0.94       405\n",
            "           6       0.99      0.91      0.95       109\n",
            "           7       0.99      1.00      0.99       590\n",
            "           8       0.99      0.95      0.97      1550\n",
            "           9       0.99      0.97      0.98       590\n",
            "          10       0.98      0.97      0.98       534\n",
            "          11       1.00      1.00      1.00       213\n",
            "          12       0.96      0.84      0.90       263\n",
            "          13       0.95      0.94      0.94       141\n",
            "          14       0.72      0.97      0.83       122\n",
            "          15       0.99      0.99      0.99       267\n",
            "          16       0.99      0.94      0.97       156\n",
            "          17       0.97      0.99      0.98      1281\n",
            "\n",
            "    accuracy                           0.97      8228\n",
            "   macro avg       0.96      0.96      0.96      8228\n",
            "weighted avg       0.97      0.97      0.97      8228\n",
            "\n"
          ]
        }
      ]
    },
    {
      "cell_type": "code",
      "source": [
        "# naIVE BAYES Creating  a confusion matrix,which compares the y_test and y_pred\n",
        "\n",
        "from sklearn.metrics import confusion_matrix\n",
        "\n",
        "cm = confusion_matrix(y_test, model_prediction)\n",
        "\n",
        "#Normalize\n",
        "cmn = cm.astype('float') / cm.sum(axis=1)[:, np.newaxis]\n",
        "\n",
        "# Creating a dataframe for a array-formatted Confusion matrix,so it will be easy for plotting.\n",
        "cm_df = pd.DataFrame(cmn,\n",
        "                     index = ['1', '2', '3', '4', '5', '6', '7','8', '9', '10', '11', '12', '13', '14', '15', '16', '17', '18'],\n",
        "\n",
        "                     columns = ['1', '2', '3', '4', '5', '6', '7','8', '9', '10', '11', '12', '13', '14', '15', '16', '17', '18'])\n",
        "\n",
        "#Plotting the confusion matrix\n",
        "plt.figure(figsize=(10,8))\n",
        "sns.heatmap(cm_df, annot=True, fmt= '.2f', cmap='Pastel1_r')   #(cf_matrix/np.sum(cf_matrix), annot=True,\n",
        "            #fmt='.2%', cmap='Blues')\n",
        "plt.title('Confusion Matrix')\n",
        "plt.ylabel('Actal Values')\n",
        "plt.xlabel('Predicted Values')\n",
        "plt.show()"
      ],
      "metadata": {
        "id": "1N-1iVRHQpK_",
        "colab": {
          "base_uri": "https://localhost:8080/",
          "height": 513
        },
        "outputId": "52c4e8ba-b7c5-4813-a0bd-53a4da55b40b"
      },
      "execution_count": null,
      "outputs": [
        {
          "output_type": "display_data",
          "data": {
            "text/plain": [
              "<Figure size 720x576 with 2 Axes>"
            ],
            "image/png": "[encoded data removed]"
          },
          "metadata": {
            "needs_background": "light"
          }
        }
      ]
    },
    {
      "cell_type": "code",
      "source": [
        "from sklearn.ensemble import RandomForestClassifier\n",
        "model = RandomForestClassifier()\n",
        "model = model.fit(train_vectors_dbow, y_train)\n",
        "model_prediction = model.predict(test_vectors_dbow)\n",
        "print('accuracy %s' % accuracy_score(model_prediction, y_test))\n",
        "print(classification_report(y_test, model_prediction))"
      ],
      "metadata": {
        "id": "kwuzfeXDRExB",
        "colab": {
          "base_uri": "https://localhost:8080/"
        },
        "outputId": "c6926683-e194-40f2-a781-bfbf5871141a"
      },
      "execution_count": null,
      "outputs": [
        {
          "output_type": "stream",
          "name": "stdout",
          "text": [
            "accuracy 0.6871657754010695\n",
            "              precision    recall  f1-score   support\n",
            "\n",
            "           0       1.00      0.04      0.08        69\n",
            "           1       1.00      0.04      0.07       132\n",
            "           2       0.77      0.85      0.81       895\n",
            "           3       0.93      0.20      0.33       315\n",
            "           4       0.83      0.85      0.84       596\n",
            "           5       0.90      0.70      0.79       405\n",
            "           6       1.00      0.07      0.14       109\n",
            "           7       0.79      0.84      0.81       590\n",
            "           8       0.52      0.96      0.67      1550\n",
            "           9       0.84      0.73      0.78       590\n",
            "          10       0.93      0.41      0.57       534\n",
            "          11       1.00      0.38      0.55       213\n",
            "          12       0.96      0.10      0.17       263\n",
            "          13       1.00      0.01      0.01       141\n",
            "          14       1.00      0.01      0.02       122\n",
            "          15       0.98      0.21      0.35       267\n",
            "          16       1.00      0.01      0.01       156\n",
            "          17       0.68      0.95      0.79      1281\n",
            "\n",
            "    accuracy                           0.69      8228\n",
            "   macro avg       0.90      0.41      0.43      8228\n",
            "weighted avg       0.78      0.69      0.64      8228\n",
            "\n"
          ]
        }
      ]
    },
    {
      "cell_type": "code",
      "source": [
        "\n",
        "#Hyper Parameter Tuning (Random Forest)\n",
        "from sklearn.model_selection import GridSearchCV\n",
        "n_estimators = [100, 300, 500, 800, 1200]\n",
        "max_depth = [5, 8, 15, 25, 30]\n",
        "min_samples_split = [2, 5, 10, 15, 100]\n",
        "min_samples_leaf = [1, 2, 5, 10]\n",
        "\n",
        "hyperF = dict(n_estimators = n_estimators, max_depth = max_depth,\n",
        "              min_samples_split = min_samples_split,\n",
        "             min_samples_leaf = min_samples_leaf)\n",
        "\n",
        "gridF = GridSearchCV(model, hyperF, cv = 3, verbose = 1,\n",
        "                      n_jobs = -1)\n",
        "bestF = gridF.fit(train_vectors_dbow, y_train)"
      ],
      "metadata": {
        "id": "fFeIATA6REz4"
      },
      "execution_count": null,
      "outputs": []
    },
    {
      "cell_type": "code",
      "source": [
        "bestF.best_params_"
      ],
      "metadata": {
        "id": "omK7duV4RE3L"
      },
      "execution_count": null,
      "outputs": []
    },
    {
      "cell_type": "code",
      "source": [
        "\n",
        "model = RandomForestClassifier(max_depth=15,min_samples_leaf=3,min_samples_split=2,n_estimators=1200)\n",
        "model = model.fit(train_vectors_dbow, y_train)\n",
        "model_prediction = model.predict(test_vectors_dbow)\n",
        "print('accuracy %s' % accuracy_score(model_prediction, y_test))\n",
        "print(classification_report(y_test, model_prediction))"
      ],
      "metadata": {
        "id": "Vt5NNsLzROwi",
        "colab": {
          "base_uri": "https://localhost:8080/"
        },
        "outputId": "c11c464a-d33e-4db3-bddc-84ad7f76be71"
      },
      "execution_count": null,
      "outputs": [
        {
          "output_type": "stream",
          "name": "stdout",
          "text": [
            "accuracy 0.7074623237724842\n",
            "              precision    recall  f1-score   support\n",
            "\n",
            "           0       1.00      0.01      0.03        69\n",
            "           1       1.00      0.02      0.04       132\n",
            "           2       0.88      0.90      0.89       895\n",
            "           3       1.00      0.14      0.25       315\n",
            "           4       0.92      0.90      0.91       596\n",
            "           5       0.94      0.75      0.84       405\n",
            "           6       1.00      0.02      0.04       109\n",
            "           7       0.85      0.86      0.86       590\n",
            "           8       0.50      0.99      0.66      1550\n",
            "           9       0.91      0.81      0.86       590\n",
            "          10       1.00      0.43      0.60       534\n",
            "          11       1.00      0.29      0.45       213\n",
            "          12       1.00      0.07      0.13       263\n",
            "          13       0.00      0.00      0.00       141\n",
            "          14       1.00      0.01      0.02       122\n",
            "          15       1.00      0.15      0.26       267\n",
            "          16       0.00      0.00      0.00       156\n",
            "          17       0.69      0.98      0.81      1281\n",
            "\n",
            "    accuracy                           0.71      8228\n",
            "   macro avg       0.82      0.41      0.42      8228\n",
            "weighted avg       0.78      0.71      0.65      8228\n",
            "\n"
          ]
        }
      ]
    },
    {
      "cell_type": "code",
      "source": [
        "# R Creating  a confusion matrix,which compares the y_test and y_pred\n",
        "\n",
        "from sklearn.metrics import confusion_matrix\n",
        "\n",
        "cm = confusion_matrix(y_test, model_prediction)\n",
        "\n",
        "#Normalize\n",
        "cmn = cm.astype('float') / cm.sum(axis=1)[:, np.newaxis]\n",
        "\n",
        "# Creating a dataframe for a array-formatted Confusion matrix,so it will be easy for plotting.\n",
        "cm_df = pd.DataFrame(cmn,\n",
        "                     index = ['1', '2', '3', '4', '5', '6', '7','8', '9', '10', '11', '12', '13', '14', '15', '16', '17', '18'],\n",
        "\n",
        "                     columns = ['1', '2', '3', '4', '5', '6', '7','8', '9', '10', '11', '12', '13', '14', '15', '16', '17', '18'])\n",
        "\n",
        "#Plotting the confusion matrix\n",
        "plt.figure(figsize=(10,8))\n",
        "sns.heatmap(cm_df, annot=True, fmt= '.2f', cmap='Pastel1_r')   #(cf_matrix/np.sum(cf_matrix), annot=True,\n",
        "            #fmt='.2%', cmap='Blues')\n",
        "plt.title('Confusion Matrix')\n",
        "plt.ylabel('Actal Values')\n",
        "plt.xlabel('Predicted Values')\n",
        "plt.show()"
      ],
      "metadata": {
        "id": "ixhW3Pz0RO0M",
        "colab": {
          "base_uri": "https://localhost:8080/",
          "height": 513
        },
        "outputId": "2df91d71-d379-43e0-ea97-147a1a411ef5"
      },
      "execution_count": null,
      "outputs": [
        {
          "output_type": "display_data",
          "data": {
            "text/plain": [
              "<Figure size 720x576 with 2 Axes>"
            ],
            "image/png": "[encoded data removed]"
          },
          "metadata": {
            "needs_background": "light"
          }
        }
      ]
    },
    {
      "cell_type": "code",
      "source": [
        "#Decision Tree\n",
        "model = DecisionTreeClassifier()\n",
        "model = model.fit(train_vectors_dbow, y_train)\n",
        "model_prediction = model.predict(test_vectors_dbow)\n",
        "print('accuracy %s' % accuracy_score(model_prediction, y_test))\n",
        "print(classification_report(y_test, model_prediction))"
      ],
      "metadata": {
        "id": "xymk45mMRWkR",
        "colab": {
          "base_uri": "https://localhost:8080/"
        },
        "outputId": "a4ec8398-cc3a-40c2-c8e1-79fb2d2c56fa"
      },
      "execution_count": null,
      "outputs": [
        {
          "output_type": "stream",
          "name": "stdout",
          "text": [
            "accuracy 0.3102819640252795\n",
            "              precision    recall  f1-score   support\n",
            "\n",
            "           0       0.03      0.03      0.03        69\n",
            "           1       0.05      0.05      0.05       132\n",
            "           2       0.35      0.37      0.36       895\n",
            "           3       0.18      0.19      0.19       315\n",
            "           4       0.27      0.27      0.27       596\n",
            "           5       0.38      0.34      0.35       405\n",
            "           6       0.08      0.09      0.09       109\n",
            "           7       0.34      0.37      0.36       590\n",
            "           8       0.44      0.45      0.44      1550\n",
            "           9       0.24      0.24      0.24       590\n",
            "          10       0.22      0.21      0.22       534\n",
            "          11       0.21      0.18      0.20       213\n",
            "          12       0.12      0.12      0.12       263\n",
            "          13       0.12      0.11      0.11       141\n",
            "          14       0.07      0.10      0.08       122\n",
            "          15       0.14      0.13      0.13       267\n",
            "          16       0.05      0.05      0.05       156\n",
            "          17       0.45      0.42      0.43      1281\n",
            "\n",
            "    accuracy                           0.31      8228\n",
            "   macro avg       0.21      0.21      0.21      8228\n",
            "weighted avg       0.31      0.31      0.31      8228\n",
            "\n"
          ]
        }
      ]
    },
    {
      "cell_type": "code",
      "source": [
        "#Hyper Parameter Tuning (Decision Tree)\n",
        "import numpy as np\n",
        "from scipy.stats import randint\n",
        "from sklearn.model_selection import GridSearchCV,RandomizedSearchCV\n",
        "\n",
        "min_samples_leaf = randint(1,9)\n",
        "\n",
        "criterion = ['gini', 'entropy']\n",
        "max_depth = [3,None]\n",
        "\n",
        "\n",
        "\n",
        "hyperF = dict(max_depth=max_depth,\n",
        "                      criterion=criterion,\n",
        "                      min_samples_leaf=min_samples_leaf)\n",
        "\n",
        "model  = DecisionTreeClassifier(random_state=1)\n",
        "gridF = RandomizedSearchCV(model, hyperF, cv = 3, verbose = 1)\n",
        "bestF = gridF.fit(train_vectors_dbow, y_train)"
      ],
      "metadata": {
        "id": "gsMfMNe9RWp0",
        "colab": {
          "base_uri": "https://localhost:8080/"
        },
        "outputId": "29cab472-be60-4363-d9b4-1940aee4718f"
      },
      "execution_count": null,
      "outputs": [
        {
          "output_type": "stream",
          "name": "stdout",
          "text": [
            "Fitting 3 folds for each of 10 candidates, totalling 30 fits\n"
          ]
        }
      ]
    },
    {
      "cell_type": "code",
      "source": [
        "bestF.best_params_"
      ],
      "metadata": {
        "id": "4NBqJEsERdQE",
        "colab": {
          "base_uri": "https://localhost:8080/"
        },
        "outputId": "fd3e5ed6-7cd0-4395-fb4a-ccf6d0f08f7d"
      },
      "execution_count": null,
      "outputs": [
        {
          "output_type": "execute_result",
          "data": {
            "text/plain": [
              "{'criterion': 'entropy', 'max_depth': None, 'min_samples_leaf': 6}"
            ]
          },
          "metadata": {},
          "execution_count": 68
        }
      ]
    },
    {
      "cell_type": "code",
      "source": [
        "model = DecisionTreeClassifier(criterion='entropy',max_depth=None,min_samples_leaf=6)\n",
        "model = model.fit(train_vectors_dbow, y_train)\n",
        "model_prediction = model.predict(test_vectors_dbow)\n",
        "print('accuracy %s' % accuracy_score(model_prediction, y_test))\n",
        "print(classification_report(y_test, model_prediction))"
      ],
      "metadata": {
        "id": "T5tMB76_RdS8",
        "colab": {
          "base_uri": "https://localhost:8080/"
        },
        "outputId": "91f52439-c680-4d58-812c-574691353930"
      },
      "execution_count": null,
      "outputs": [
        {
          "output_type": "stream",
          "name": "stdout",
          "text": [
            "accuracy 0.32255712202236264\n",
            "              precision    recall  f1-score   support\n",
            "\n",
            "           0       0.05      0.06      0.06        69\n",
            "           1       0.09      0.08      0.09       132\n",
            "           2       0.36      0.40      0.38       895\n",
            "           3       0.20      0.21      0.20       315\n",
            "           4       0.24      0.28      0.26       596\n",
            "           5       0.36      0.35      0.36       405\n",
            "           6       0.16      0.15      0.15       109\n",
            "           7       0.39      0.42      0.40       590\n",
            "           8       0.39      0.43      0.41      1550\n",
            "           9       0.27      0.25      0.26       590\n",
            "          10       0.26      0.24      0.25       534\n",
            "          11       0.34      0.38      0.36       213\n",
            "          12       0.14      0.12      0.13       263\n",
            "          13       0.10      0.06      0.08       141\n",
            "          14       0.04      0.04      0.04       122\n",
            "          15       0.23      0.16      0.19       267\n",
            "          16       0.14      0.08      0.11       156\n",
            "          17       0.44      0.40      0.42      1281\n",
            "\n",
            "    accuracy                           0.32      8228\n",
            "   macro avg       0.23      0.23      0.23      8228\n",
            "weighted avg       0.32      0.32      0.32      8228\n",
            "\n"
          ]
        }
      ]
    },
    {
      "cell_type": "code",
      "source": [],
      "metadata": {
        "id": "n06cgzdbRdVN"
      },
      "execution_count": null,
      "outputs": []
    },
    {
      "cell_type": "code",
      "source": [
        "#KNeighborsClassifier\n",
        "model = KNeighborsClassifier()\n",
        "model = model.fit(train_vectors_dbow, y_train)\n",
        "model_prediction = model.predict(test_vectors_dbow)\n",
        "print('accuracy %s' % accuracy_score(model_prediction, y_test))\n",
        "print(classification_report(y_test, model_prediction))"
      ],
      "metadata": {
        "id": "iscfIyDFRdXy",
        "colab": {
          "base_uri": "https://localhost:8080/"
        },
        "outputId": "7a44850f-9d19-451d-a70e-c4b1f702a9b4"
      },
      "execution_count": null,
      "outputs": [
        {
          "output_type": "stream",
          "name": "stdout",
          "text": [
            "accuracy 0.6113271754982985\n",
            "              precision    recall  f1-score   support\n",
            "\n",
            "           0       0.81      0.86      0.83        69\n",
            "           1       0.53      0.77      0.63       132\n",
            "           2       0.97      0.25      0.40       895\n",
            "           3       0.39      0.69      0.50       315\n",
            "           4       0.70      0.95      0.80       596\n",
            "           5       0.99      0.30      0.47       405\n",
            "           6       1.00      0.84      0.92       109\n",
            "           7       0.34      0.98      0.51       590\n",
            "           8       0.61      0.57      0.59      1550\n",
            "           9       0.76      0.94      0.84       590\n",
            "          10       0.97      0.92      0.95       534\n",
            "          11       1.00      0.94      0.97       213\n",
            "          12       0.33      0.85      0.47       263\n",
            "          13       1.00      0.66      0.79       141\n",
            "          14       0.66      0.50      0.57       122\n",
            "          15       0.62      0.97      0.76       267\n",
            "          16       1.00      0.20      0.33       156\n",
            "          17       1.00      0.21      0.35      1281\n",
            "\n",
            "    accuracy                           0.61      8228\n",
            "   macro avg       0.76      0.69      0.65      8228\n",
            "weighted avg       0.76      0.61      0.59      8228\n",
            "\n"
          ]
        }
      ]
    },
    {
      "cell_type": "code",
      "source": [
        "#Hyper Parameter Tuning (KNeighborsClassifier)\n",
        "from sklearn.model_selection import GridSearchCV\n",
        "params_KNN = {'n_neighbors': [1, 2, 3, 4, 5, 6, 7],\n",
        "              'p': [1, 2, 5]}\n",
        "\n",
        "\n",
        "gridF = GridSearchCV(model, params_KNN, cv = 5, verbose = 1,\n",
        "                      n_jobs = -1)\n",
        "bestF = gridF.fit(train_vectors_dbow, y_train)"
      ],
      "metadata": {
        "id": "HS9EOPadRdZv",
        "colab": {
          "base_uri": "https://localhost:8080/"
        },
        "outputId": "88d83cf3-5626-416f-ba75-04fc460eccc6"
      },
      "execution_count": null,
      "outputs": [
        {
          "output_type": "stream",
          "name": "stdout",
          "text": [
            "Fitting 5 folds for each of 21 candidates, totalling 105 fits\n"
          ]
        }
      ]
    },
    {
      "cell_type": "code",
      "source": [
        "bestF.best_params_"
      ],
      "metadata": {
        "id": "EpfeVu1wRdcm",
        "colab": {
          "base_uri": "https://localhost:8080/"
        },
        "outputId": "3f0cf877-c286-48e8-c888-cfbb4efef914"
      },
      "execution_count": null,
      "outputs": [
        {
          "output_type": "execute_result",
          "data": {
            "text/plain": [
              "{'n_neighbors': 7, 'p': 5}"
            ]
          },
          "metadata": {},
          "execution_count": 72
        }
      ]
    },
    {
      "cell_type": "code",
      "source": [
        "model = KNeighborsClassifier(n_neighbors=5,p=2)\n",
        "model = model.fit(train_vectors_dbow, y_train)\n",
        "model_prediction = model.predict(test_vectors_dbow)\n",
        "print('accuracy %s' % accuracy_score(model_prediction, y_test))\n",
        "print(classification_report(y_test, model_prediction))"
      ],
      "metadata": {
        "id": "7pEwdxosRdgQ",
        "colab": {
          "base_uri": "https://localhost:8080/"
        },
        "outputId": "1b12ba92-4664-4943-d7f1-21e3e06501a8"
      },
      "execution_count": null,
      "outputs": [
        {
          "output_type": "stream",
          "name": "stdout",
          "text": [
            "accuracy 0.6113271754982985\n",
            "              precision    recall  f1-score   support\n",
            "\n",
            "           0       0.81      0.86      0.83        69\n",
            "           1       0.53      0.77      0.63       132\n",
            "           2       0.97      0.25      0.40       895\n",
            "           3       0.39      0.69      0.50       315\n",
            "           4       0.70      0.95      0.80       596\n",
            "           5       0.99      0.30      0.47       405\n",
            "           6       1.00      0.84      0.92       109\n",
            "           7       0.34      0.98      0.51       590\n",
            "           8       0.61      0.57      0.59      1550\n",
            "           9       0.76      0.94      0.84       590\n",
            "          10       0.97      0.92      0.95       534\n",
            "          11       1.00      0.94      0.97       213\n",
            "          12       0.33      0.85      0.47       263\n",
            "          13       1.00      0.66      0.79       141\n",
            "          14       0.66      0.50      0.57       122\n",
            "          15       0.62      0.97      0.76       267\n",
            "          16       1.00      0.20      0.33       156\n",
            "          17       1.00      0.21      0.35      1281\n",
            "\n",
            "    accuracy                           0.61      8228\n",
            "   macro avg       0.76      0.69      0.65      8228\n",
            "weighted avg       0.76      0.61      0.59      8228\n",
            "\n"
          ]
        }
      ]
    },
    {
      "cell_type": "code",
      "source": [
        "\n",
        "# R Creating  a confusion matrix,which compares the y_test and y_pred\n",
        "\n",
        "from sklearn.metrics import confusion_matrix\n",
        "\n",
        "cm = confusion_matrix(y_test, model_prediction)\n",
        "\n",
        "#Normalize\n",
        "cmn = cm.astype('float') / cm.sum(axis=1)[:, np.newaxis]\n",
        "\n",
        "# Creating a dataframe for a array-formatted Confusion matrix,so it will be easy for plotting.\n",
        "cm_df = pd.DataFrame(cmn,\n",
        "                     index = ['1', '2', '3', '4', '5', '6', '7','8', '9', '10', '11', '12', '13', '14', '15', '16', '17', '18'],\n",
        "\n",
        "                     columns = ['1', '2', '3', '4', '5', '6', '7','8', '9', '10', '11', '12', '13', '14', '15', '16', '17', '18'])\n",
        "\n",
        "#Plotting the confusion matrix\n",
        "plt.figure(figsize=(10,8))\n",
        "sns.heatmap(cm_df, annot=True, fmt= '.2f', cmap='Pastel1_r')   #(cf_matrix/np.sum(cf_matrix), annot=True,\n",
        "            #fmt='.2%', cmap='Blues')\n",
        "plt.title('Confusion Matrix')\n",
        "plt.ylabel('Actal Values')\n",
        "plt.xlabel('Predicted Values')\n",
        "plt.show()"
      ],
      "metadata": {
        "colab": {
          "base_uri": "https://localhost:8080/",
          "height": 513
        },
        "id": "JbaBG_vZqzH_",
        "outputId": "b26df638-a527-4cd2-b79a-69b9faf02e95"
      },
      "execution_count": null,
      "outputs": [
        {
          "output_type": "display_data",
          "data": {
            "text/plain": [
              "<Figure size 720x576 with 2 Axes>"
            ],
            "image/png": "[encoded data removed]"
          },
          "metadata": {
            "needs_background": "light"
          }
        }
      ]
    }
  ]
}